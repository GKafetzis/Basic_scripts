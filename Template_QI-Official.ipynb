{
 "cells": [
  {
   "cell_type": "code",
   "execution_count": 5,
   "id": "be360898",
   "metadata": {},
   "outputs": [
    {
     "name": "stderr",
     "output_type": "stream",
     "text": [
      "C:\\Users\\George\\anaconda3\\envs\\DataJoint\\lib\\site-packages\\numpy\\_distributor_init.py:30: UserWarning: loaded more than 1 DLL from .libs:\n",
      "C:\\Users\\George\\anaconda3\\envs\\DataJoint\\lib\\site-packages\\numpy\\.libs\\libopenblas.FB5AE2TYXYH2IJRDKGDGQ3XBKLKTF43H.gfortran-win_amd64.dll\n",
      "C:\\Users\\George\\anaconda3\\envs\\DataJoint\\lib\\site-packages\\numpy\\.libs\\libopenblas.GK7GX5KEQ4F6UYO3P26ULGBQYHGQO7J4.gfortran-win_amd64.dll\n",
      "  warnings.warn(\"loaded more than 1 DLL from .libs:\"\n",
      "C:\\Users\\George\\anaconda3\\envs\\DataJoint\\lib\\site-packages\\scipy\\__init__.py:146: UserWarning: A NumPy version >=1.16.5 and <1.23.0 is required for this version of SciPy (detected version 1.23.4\n",
      "  warnings.warn(f\"A NumPy version >={np_minversion} and <{np_maxversion}\"\n"
     ]
    }
   ],
   "source": [
    "from MEA_analysis import backbone, stimulus_trace, spike_extractor, spike_plotly, single_stimulus\n",
    "from importlib import reload  \n",
    "import qgrid\n",
    "%matplotlib widget\n",
    "reload(spike_plotly)\n",
    "reload(spike_extractor)\n",
    "from ipywidgets import interact, interact_manual, interactive\n",
    "import ipywidgets as widgets\n",
    "import numpy as np\n",
    "import pandas as pd\n",
    "import scipy\n",
    "import pyspike as spk\n",
    "import matplotlib.pyplot as plt\n",
    "\n",
    "import plotly.graph_objects as go"
   ]
  },
  {
   "cell_type": "code",
   "execution_count": null,
   "id": "c81272c5",
   "metadata": {},
   "outputs": [],
   "source": [
    "from MEA_analysis import stimulus_and_spikes as sp\n",
    "from MEA_analysis import Overview\n",
    "#import numpy.ma as ma\n",
    "from Basic_scripts import Basic"
   ]
  },
  {
   "cell_type": "code",
   "execution_count": 6,
   "id": "3e56e6fe",
   "metadata": {},
   "outputs": [
    {
     "data": {
      "application/vnd.jupyter.widget-view+json": {
       "model_id": "9914e1ecdfe44497a8c4bcbf0743df96",
       "version_major": 2,
       "version_minor": 0
      },
      "text/plain": [
       "VBox(children=(SelectFilesButton(description='Select Stimulus', icon='square-o', style=ButtonStyle(button_colo…"
      ]
     },
     "metadata": {},
     "output_type": "display_data"
    }
   ],
   "source": [
    "trigger_file = backbone.SelectFilesButton(\"Stimulus\")\n",
    "widgets.VBox([trigger_file, trigger_file.out])"
   ]
  },
  {
   "cell_type": "code",
   "execution_count": 151,
   "id": "bac87a8e",
   "metadata": {},
   "outputs": [
    {
     "data": {
      "application/vnd.jupyter.widget-view+json": {
       "model_id": "d7fb98a571b9420db7eeb2b0584c1165",
       "version_major": 2,
       "version_minor": 0
      },
      "text/plain": [
       "FigureWidget({\n",
       "    'data': [{'marker': {'color': [#1f77b4, #1f77b4, #1f77b4, ..., #1f77b4,\n",
       "                   …"
      ]
     },
     "metadata": {},
     "output_type": "display_data"
    }
   ],
   "source": [
    "Test_stimulus = stimulus_trace.Stimulus_Extractor(trigger_file.files[0])\n",
    "Test_stimulus.plot_trigger_channel_new(\"10ms\")\n"
   ]
  },
  {
   "cell_type": "code",
   "execution_count": 152,
   "id": "44d59535",
   "metadata": {},
   "outputs": [
    {
     "name": "stdout",
     "output_type": "stream",
     "text": [
      "0\n"
     ]
    },
    {
     "name": "stderr",
     "output_type": "stream",
     "text": [
      "C:\\Users\\George\\Documents\\GitHub\\MEA_analysis\\stimulus_trace.py:356: FutureWarning:\n",
      "\n",
      "The frame.append method is deprecated and will be removed from pandas in a future version. Use pandas.concat instead.\n",
      "\n",
      "C:\\Users\\George\\Documents\\GitHub\\MEA_analysis\\stimulus_trace.py:356: FutureWarning:\n",
      "\n",
      "The frame.append method is deprecated and will be removed from pandas in a future version. Use pandas.concat instead.\n",
      "\n"
     ]
    }
   ],
   "source": [
    "Test_stimulus.get_stim_range_new()"
   ]
  },
  {
   "cell_type": "code",
   "execution_count": 153,
   "id": "58fd2a83",
   "metadata": {},
   "outputs": [
    {
     "data": {
      "application/vnd.jupyter.widget-view+json": {
       "model_id": "04ab51cd12a742e1b6e744ef36ca09de",
       "version_major": 2,
       "version_minor": 0
      },
      "text/plain": [
       "QgridWidget(grid_options={'fullWidthRows': True, 'syncColumnCellResize': True, 'forceFitColumns': True, 'defau…"
      ]
     },
     "metadata": {},
     "output_type": "display_data"
    }
   ],
   "source": [
    "Stimulus_table = qgrid.show_grid(Test_stimulus.stimuli)\n",
    "Stimulus_table"
   ]
  },
  {
   "cell_type": "code",
   "execution_count": 154,
   "id": "35fa57da",
   "metadata": {},
   "outputs": [
    {
     "name": "stdout",
     "output_type": "stream",
     "text": [
      "[(29,), (29,)]\n"
     ]
    }
   ],
   "source": [
    "print([Test_stimulus.stimuli.iloc[i][\"Trigger_int\"].shape for i in range(len(Test_stimulus.stimuli))])"
   ]
  },
  {
   "cell_type": "code",
   "execution_count": 155,
   "id": "34fbc451",
   "metadata": {},
   "outputs": [],
   "source": [
    "Test_stimulus.get_changed_names(Stimulus_table)\n"
   ]
  },
  {
   "cell_type": "code",
   "execution_count": null,
   "id": "59a44c80",
   "metadata": {},
   "outputs": [],
   "source": []
  },
  {
   "cell_type": "code",
   "execution_count": 12,
   "id": "14f04a47",
   "metadata": {},
   "outputs": [
    {
     "data": {
      "application/vnd.jupyter.widget-view+json": {
       "model_id": "ae1e803c72db4e0f84dd7da91a355cf1",
       "version_major": 2,
       "version_minor": 0
      },
      "text/plain": [
       "VBox(children=(SelectFilesButton(description='Select Spikes', icon='square-o', style=ButtonStyle(button_color=…"
      ]
     },
     "metadata": {},
     "output_type": "display_data"
    }
   ],
   "source": [
    "spikes_file = backbone.SelectFilesButton(\"Spikes\")\n",
    "widgets.VBox([spikes_file, spikes_file.out])"
   ]
  },
  {
   "cell_type": "code",
   "execution_count": 156,
   "id": "426d0c0d",
   "metadata": {},
   "outputs": [
    {
     "data": {
      "application/vnd.jupyter.widget-view+json": {
       "model_id": "b6849e20e907449889047aca6c891aa4",
       "version_major": 2,
       "version_minor": 0
      },
      "text/plain": [
       "Canvas(toolbar=Toolbar(toolitems=[('Home', 'Reset original view', 'home', 'home'), ('Back', 'Back to previous …"
      ]
     },
     "metadata": {},
     "output_type": "display_data"
    },
    {
     "name": "stderr",
     "output_type": "stream",
     "text": [
      "C:\\Users\\George\\anaconda3\\envs\\DataJoint\\lib\\site-packages\\numpy\\ma\\core.py:6900: RuntimeWarning:\n",
      "\n",
      "overflow encountered in power\n",
      "\n"
     ]
    },
    {
     "data": {
      "application/vnd.jupyter.widget-view+json": {
       "model_id": "a102c859d2814d438bc260dbb872f371",
       "version_major": 2,
       "version_minor": 0
      },
      "text/plain": [
       "interactive(children=(IntText(value=82, description='Lower threshold:', style=DescriptionStyle(description_wid…"
      ]
     },
     "metadata": {},
     "output_type": "display_data"
    },
    {
     "data": {
      "application/vnd.jupyter.widget-view+json": {
       "model_id": "127a9be112e04c6a850b0059d4ec974c",
       "version_major": 2,
       "version_minor": 0
      },
      "text/plain": [
       "FloatText(value=0.5620115388884334, description='Lower threshold in spikes per minute:', style=DescriptionStyl…"
      ]
     },
     "metadata": {},
     "output_type": "display_data"
    },
    {
     "data": {
      "application/vnd.jupyter.widget-view+json": {
       "model_id": "506e2d98b24f494e839cbd5a7bb70230",
       "version_major": 2,
       "version_minor": 0
      },
      "text/plain": [
       "interactive(children=(IntText(value=679, description='Upper threshold:', style=DescriptionStyle(description_wi…"
      ]
     },
     "metadata": {},
     "output_type": "display_data"
    },
    {
     "data": {
      "application/vnd.jupyter.widget-view+json": {
       "model_id": "efbcaf6b12de43b496bc0c593c4d8486",
       "version_major": 2,
       "version_minor": 0
      },
      "text/plain": [
       "FloatText(value=4.656813903631041, description='Upper threshold in spikes per minute:', style=DescriptionStyle…"
      ]
     },
     "metadata": {},
     "output_type": "display_data"
    },
    {
     "data": {
      "application/vnd.jupyter.widget-view+json": {
       "model_id": "6b89f64a2344460cbf73ad9c925602a1",
       "version_major": 2,
       "version_minor": 0
      },
      "text/plain": [
       "interactive(children=(IntText(value=0, description='Left Threshold', style=DescriptionStyle(description_width=…"
      ]
     },
     "metadata": {},
     "output_type": "display_data"
    },
    {
     "data": {
      "application/vnd.jupyter.widget-view+json": {
       "model_id": "994faa7133c2478ca3fbe0d700a00782",
       "version_major": 2,
       "version_minor": 0
      },
      "text/plain": [
       "interactive(children=(IntText(value=12092, description='Right Threshold', style=DescriptionStyle(description_w…"
      ]
     },
     "metadata": {},
     "output_type": "display_data"
    }
   ],
   "source": [
    "reload(spike_extractor)\n",
    "Spikes = spike_extractor.Recording_spikes(spikes_file.files[0])\n",
    "thresholds = spike_extractor.Thresholds(Spikes.spikes, Test_stimulus)\n",
    "overview = spike_plotly.Recording_overview(Spikes.spikes)\n",
    "overview.plot_basic_recording_information(thresholds)"
   ]
  },
  {
   "cell_type": "code",
   "execution_count": 157,
   "id": "e647e6d8",
   "metadata": {},
   "outputs": [],
   "source": [
    "#Load spikes\n",
    "\n",
    "reload(stimulus_and_spikes)\n",
    "Spikes.define_subset(thresholds.threshold_left_widget.value, thresholds.threshold_right_widget.value)\n",
    "Spikes.define_thr(thresholds.threshold_up_widget.value, thresholds.threshold_low_widget.value)\n",
    "spikes_df = Spikes.get_spikes(True, True)[2]\n",
    "\n",
    "#Correlate spikes and stimuli\n",
    "begin_idx, end_idx = stimulus_and_spikes.spikes_and_stimulus(spikes_df, Test_stimulus.stimuli)\n",
    "stimulus_spikes = stimulus_and_spikes.extract_stimulus_spikes(spikes_df, Test_stimulus.stimuli['Stimulus_name'], begin_idx, end_idx, np.array(Test_stimulus.stimuli['Begin_Fr'][:], dtype=int))"
   ]
  },
  {
   "cell_type": "code",
   "execution_count": 158,
   "id": "e95ce383",
   "metadata": {},
   "outputs": [
    {
     "name": "stderr",
     "output_type": "stream",
     "text": [
      "C:\\Users\\George\\anaconda3\\envs\\DataJoint\\lib\\site-packages\\qgrid\\grid.py:1329: FutureWarning:\n",
      "\n",
      "inplace is deprecated and will be removed in a future version.\n",
      "\n"
     ]
    },
    {
     "data": {
      "application/vnd.jupyter.widget-view+json": {
       "model_id": "e1f22ad884f04ab99f879bfe7eefb043",
       "version_major": 2,
       "version_minor": 0
      },
      "text/plain": [
       "QgridWidget(grid_options={'fullWidthRows': True, 'syncColumnCellResize': True, 'forceFitColumns': True, 'defau…"
      ]
     },
     "metadata": {},
     "output_type": "display_data"
    }
   ],
   "source": [
    "complete_dataframe = pd.DataFrame(columns=('Cell index', 'Centres x', 'Centres y', 'Nr of Spikes', 'Area', 'Stimulus ID', 'Stimulus name', 'Spikes'))\n",
    "row = 0\n",
    "\n",
    "for cell in range(len(spikes_df)):\n",
    "       \n",
    "    for stimulus in range(len(stimulus_spikes)):\n",
    "        nr_spikes_new = np.count_nonzero(~stimulus_spikes['Spikes'][stimulus][:, cell].mask)\n",
    "        area_new =  spikes_df['Area'].loc[cell]* (nr_spikes_new/spikes_df['Nr of spikes'].loc[cell])\n",
    "        complete_dataframe.loc[row] = [spikes_df['Cell index'].loc[cell], spikes_df['Centres x'].loc[cell],  spikes_df['Centres y'].loc[cell],\n",
    "                                       nr_spikes_new, area_new, stimulus, \n",
    "                                       Test_stimulus.stimuli['Stimulus_name'][stimulus], stimulus_spikes['Spikes'][stimulus][:, cell]]\n",
    "        row = row+1\n",
    "\n",
    "        \n",
    "multi_complete_dataframe = complete_dataframe.set_index(['Cell index', 'Stimulus ID', 'Centres x', 'Centres y', 'Nr of Spikes', 'Area', 'Stimulus name'])\n",
    "complete_dataset = qgrid.show_grid(multi_complete_dataframe)\n",
    "complete_dataset"
   ]
  },
  {
   "cell_type": "code",
   "execution_count": 127,
   "id": "e183e062",
   "metadata": {},
   "outputs": [],
   "source": [
    "#multi_complete_dataframe.to_pickle(Test_stimulus.recording_folder+\"spikes_for_overview\", compression=\"zip\")\n",
    "#Test_stimulus.stimuli.to_pickle(Test_stimulus.recording_folder+\"stimulus_overview\", compression=\"zip\")"
   ]
  },
  {
   "cell_type": "code",
   "execution_count": 165,
   "id": "0e35a6a7",
   "metadata": {},
   "outputs": [],
   "source": [
    "stimulus_extr = single_stimulus.Single_stimulus_spikes(multi_complete_dataframe, Test_stimulus)"
   ]
  },
  {
   "cell_type": "code",
   "execution_count": 166,
   "id": "4dc0614c",
   "metadata": {},
   "outputs": [
    {
     "data": {
      "text/plain": [
       "<MEA_analysis.single_stimulus.Single_stimulus_spikes at 0x20c703a9a60>"
      ]
     },
     "execution_count": 166,
     "metadata": {},
     "output_type": "execute_result"
    }
   ],
   "source": [
    "stimulus_extr"
   ]
  },
  {
   "cell_type": "code",
   "execution_count": 18,
   "id": "37a0cb48",
   "metadata": {},
   "outputs": [],
   "source": [
    "def kernel_template(width=0.01):\n",
    "    \n",
    "    fwhm = int((Test_stimulus.sampling_frequency[0])*width) # in points\n",
    "\n",
    "    # normalized time vector in ms\n",
    "    k = int((Test_stimulus.sampling_frequency[0])*0.02)\n",
    "    gtime = np.arange(-k,k)\n",
    "\n",
    "    # create Gaussian window\n",
    "    gauswin = np.exp( -(4*np.log(2)*gtime**2) / fwhm**2 )\n",
    "    gauswin = gauswin / np.sum(gauswin)\n",
    "\n",
    "    # initialize filtered signal vector\n",
    "    return gauswin\n",
    "\n",
    "def spike_padding(spikes, trial_n):\n",
    "    \n",
    "    stim_time=np.zeros(len(np.linspace(0,int(4.05*6*Test_stimulus.sampling_frequency[0]),num=int(4.05*6*Test_stimulus.sampling_frequency[0]), endpoint=False)))\n",
    "    \n",
    "    for sp_times in range(len(spikes[trial_n])):\n",
    "        stim_time[int(spikes[trial_n][sp_times])]=1\n",
    "        \n",
    "    return stim_time\n",
    "\n",
    "def spike_padding_new(stim_time, spikes, trial_n):\n",
    "    \n",
    "    stim_time[trial_n][list(spikes[trial_n].astype(int))]=1\n",
    "    return stim_time\n",
    "    \n",
    "def trial_kernelfit(spikes, trial_n, gauswin, print=False):\n",
    "    \n",
    "    stim_time=spike_padding(spikes,trial_n)\n",
    "    k = int((Test_stimulus.sampling_frequency[0])*0.02)\n",
    "    # implement the weighted running mean filter\n",
    "    filtsigG = np.zeros(len(stim_time))\n",
    "    for i in range(k+1,len(stim_time)-k):\n",
    "        filtsigG[i] = np.sum( stim_time[i-k:i+k]*gauswin\n",
    "    if print:\n",
    "        plt.figure()\n",
    "        plt.plot(filtsigG,'r',label='spike p.d.')   \n",
    "    return filtsigG\n",
    "\n",
    "def calc_tradqi(kernelfits):\n",
    "    return np.var(np.mean(kernelfits,0))/np.mean(np.var(kernelfits,0))"
   ]
  },
  {
   "cell_type": "code",
   "execution_count": 25,
   "id": "e5a43c59",
   "metadata": {},
   "outputs": [],
   "source": [
    "import multiprocessing as mp\n",
    "from functools import partial\n",
    "import time"
   ]
  },
  {
   "cell_type": "code",
   "execution_count": 175,
   "id": "d9eba57d",
   "metadata": {},
   "outputs": [],
   "source": [
    "def calculate_qi(stim_idx:list, cell_idces=None, kernel_width=0.0125):\n",
    "    stimulus_extr.load_spikes_for_stimulus(stim_idx)\n",
    "    if not cell_idces:\n",
    "        chosen_ones= stimulus_extr.spikes_stimulus.index.get_level_values(0).values\n",
    "    #cell_idces= stimulus_extr.spikes_stimulus.index.get_level_values(0).values if not cell_idces else cell_idces\n",
    "    offic_test=np.zeros(len(cell_idces)) \n",
    "    \n",
    "    Quality_df = single_stimulus.calculate_quality_index(stimulus_extr.spikes_stimulus, stimulus_extr.trigger_complete,\n",
    "                                                         int(stimulus_extr.stimulus_info[\"Stimulus_repeat_logic\"]),\n",
    "                                                         Test_stimulus.sampling_frequency[0])\n",
    "        \n",
    "\n",
    "\n",
    "    print(stimulus_extr.spikes_stimulus.index[0][-1])\n",
    "    stimulus_traits= Basic.get_stimulus_traits(Test_stimulus.stimuli, stim_idx)\n",
    "    repeat_duration= np.floor((Test_stimulus.stimuli.loc[stim_idx]['Trigger_Fr_relative'][stimulus_traits['stim_trials']]-Test_stimulus.stimuli.loc[stim_idx]['Trigger_Fr_relative'][0])\n",
    "                              /Test_stimulus.sampling_frequency[0])\n",
    "    print('Repeat duration:' , repeat_duration )\n",
    "\n",
    "\n",
    "    gauswins=np.tile(kernel_template(width=kernel_width)[::-1], (stimulus_traits['stim_repeats'],1))\n",
    "\n",
    "\n",
    "    for idx,cell in enumerate(cell_idces):\n",
    "        if np.sum(stimulus_extr.spikes_stimulus.loc[cell]['Spikes'].values[0].compressed())<1:\n",
    "            offic_test[idx]=np.nan\n",
    "            continue\n",
    "        else:\n",
    "            spikes = sp.get_spikes_whole_stimulus_trainsomitted(\n",
    "                        stimulus_extr.spikes_stimulus, stimulus_extr.trigger_complete,\n",
    "                                     cell,\n",
    "                                     int(stimulus_extr.stimulus_info[\"Stimulus_repeat_logic\"]),\n",
    "                                     Test_stimulus.sampling_frequency[0])\n",
    "\n",
    "\n",
    "            frames= int(np.ceil((repeat_duration+0.3)*Test_stimulus.sampling_frequency[0]))\n",
    "            spiketimes=np.zeros((len(spikes), frames-1))\n",
    "            exs=np.zeros((len(spikes), frames-gauswins.shape[1]))\n",
    "            for trial in range(len(spikes)):\n",
    "                spiketimes= spike_padding_new(spiketimes, spikes, trial)\n",
    "            exs=scipy.signal.oaconvolve(spiketimes, gauswins, mode='valid', axes=1)\n",
    "            offic_test[idx]=calc_tradqi(exs)\n",
    "\n",
    "        if idx%1000==0:\n",
    "            print(cell_idces[idx], offic_test[idx])\n",
    "    stimulus_extr.spikes_stimulus['New_qi']=offic_test\n",
    "    \n",
    "    return stimulus_extr.spikes_stimulus\n",
    "        "
   ]
  },
  {
   "cell_type": "code",
   "execution_count": 176,
   "id": "2b8d865c",
   "metadata": {},
   "outputs": [
    {
     "name": "stderr",
     "output_type": "stream",
     "text": [
      "C:\\Users\\George\\anaconda3\\envs\\DataJoint\\lib\\site-packages\\qgrid\\grid.py:1329: FutureWarning:\n",
      "\n",
      "inplace is deprecated and will be removed in a future version.\n",
      "\n",
      "C:\\Users\\George\\anaconda3\\envs\\DataJoint\\lib\\site-packages\\qgrid\\grid.py:1329: FutureWarning:\n",
      "\n",
      "inplace is deprecated and will be removed in a future version.\n",
      "\n"
     ]
    },
    {
     "name": "stdout",
     "output_type": "stream",
     "text": [
      "FFF_4s\n",
      "Repeat duration: 48.0\n",
      "7 0.6658773152084105\n"
     ]
    },
    {
     "name": "stderr",
     "output_type": "stream",
     "text": [
      "<ipython-input-18-3bba5c29d094>:87: RuntimeWarning:\n",
      "\n",
      "invalid value encountered in double_scalars\n",
      "\n"
     ]
    },
    {
     "name": "stdout",
     "output_type": "stream",
     "text": [
      "1008 0.2499026228394166\n"
     ]
    },
    {
     "name": "stderr",
     "output_type": "stream",
     "text": [
      "C:\\Users\\George\\anaconda3\\envs\\DataJoint\\lib\\site-packages\\qgrid\\grid.py:1329: FutureWarning:\n",
      "\n",
      "inplace is deprecated and will be removed in a future version.\n",
      "\n"
     ]
    },
    {
     "name": "stdout",
     "output_type": "stream",
     "text": [
      "FFF_2s\n",
      "Repeat duration: 24.0\n",
      "7 1.7452662659061178\n"
     ]
    },
    {
     "name": "stderr",
     "output_type": "stream",
     "text": [
      "<ipython-input-18-3bba5c29d094>:87: RuntimeWarning:\n",
      "\n",
      "invalid value encountered in double_scalars\n",
      "\n"
     ]
    },
    {
     "name": "stdout",
     "output_type": "stream",
     "text": [
      "1008 nan\n"
     ]
    }
   ],
   "source": [
    "for stimulus_idx in range(len(Test_stimulus.stimuli)):\n",
    "    scripting=calculate_qi(stimulus_idx, chosen_ones)\n",
    "    if stimulus_idx==0:\n",
    "        pd_parent=scripting.copy()\n",
    "    else:\n",
    "        pd_parent=pd.concat([pd_parent, scripting])"
   ]
  },
  {
   "cell_type": "code",
   "execution_count": 177,
   "id": "a9c16f21",
   "metadata": {},
   "outputs": [
    {
     "data": {
      "text/html": [
       "<div>\n",
       "<style scoped>\n",
       "    .dataframe tbody tr th:only-of-type {\n",
       "        vertical-align: middle;\n",
       "    }\n",
       "\n",
       "    .dataframe tbody tr th {\n",
       "        vertical-align: top;\n",
       "    }\n",
       "\n",
       "    .dataframe thead th {\n",
       "        text-align: right;\n",
       "    }\n",
       "</style>\n",
       "<table border=\"1\" class=\"dataframe\">\n",
       "  <thead>\n",
       "    <tr style=\"text-align: right;\">\n",
       "      <th></th>\n",
       "      <th></th>\n",
       "      <th></th>\n",
       "      <th></th>\n",
       "      <th></th>\n",
       "      <th></th>\n",
       "      <th>Spikes</th>\n",
       "      <th>Max isi</th>\n",
       "      <th>Std sync</th>\n",
       "      <th>Max psth</th>\n",
       "      <th>Total qc</th>\n",
       "      <th>stimulus spikes</th>\n",
       "      <th>Histogram</th>\n",
       "      <th>Bins</th>\n",
       "      <th>ISI mean</th>\n",
       "      <th>mean sync</th>\n",
       "      <th>total qc new</th>\n",
       "      <th>New_qi</th>\n",
       "    </tr>\n",
       "    <tr>\n",
       "      <th>Cell index</th>\n",
       "      <th>Centres x</th>\n",
       "      <th>Centres y</th>\n",
       "      <th>Nr of Spikes</th>\n",
       "      <th>Area</th>\n",
       "      <th>Stimulus name</th>\n",
       "      <th></th>\n",
       "      <th></th>\n",
       "      <th></th>\n",
       "      <th></th>\n",
       "      <th></th>\n",
       "      <th></th>\n",
       "      <th></th>\n",
       "      <th></th>\n",
       "      <th></th>\n",
       "      <th></th>\n",
       "      <th></th>\n",
       "      <th></th>\n",
       "    </tr>\n",
       "  </thead>\n",
       "  <tbody>\n",
       "    <tr>\n",
       "      <th>7</th>\n",
       "      <th>0.087701</th>\n",
       "      <th>41.940815</th>\n",
       "      <th>29</th>\n",
       "      <th>0.031650</th>\n",
       "      <th>FFF_4s</th>\n",
       "      <td>[142839, 285680, 428502, 571919, 714742, 85814...</td>\n",
       "      <td>0.546657</td>\n",
       "      <td>0.248039</td>\n",
       "      <td>3.0</td>\n",
       "      <td>0.406777</td>\n",
       "      <td>18.0</td>\n",
       "      <td>[0.0, 0.0, 0.0, 0.0, 0.0, 0.0, 0.0, 0.0, 0.0, ...</td>\n",
       "      <td>[0.0, 0.05004443610133947, 0.05004443610133947...</td>\n",
       "      <td>0.488729</td>\n",
       "      <td>0.343750</td>\n",
       "      <td>0.806595</td>\n",
       "      <td>0.665877</td>\n",
       "    </tr>\n",
       "    <tr>\n",
       "      <th>8</th>\n",
       "      <th>2436.360360</th>\n",
       "      <th>1847.361522</th>\n",
       "      <th>2354</th>\n",
       "      <th>2.569140</th>\n",
       "      <th>FFF_4s</th>\n",
       "      <td>[4018, 5458, 9100, 9189, 13111, 15130, 15957, ...</td>\n",
       "      <td>0.858190</td>\n",
       "      <td>0.237926</td>\n",
       "      <td>9.0</td>\n",
       "      <td>1.837668</td>\n",
       "      <td>4706.0</td>\n",
       "      <td>[4.0, 4.0, 2.0, 2.0, 1.0, 1.0, 2.0, 2.0, 5.0, ...</td>\n",
       "      <td>[0.0, 0.05004443610133947, 0.05004443610133947...</td>\n",
       "      <td>0.576233</td>\n",
       "      <td>0.220901</td>\n",
       "      <td>1.658382</td>\n",
       "      <td>0.294502</td>\n",
       "    </tr>\n",
       "    <tr>\n",
       "      <th>9</th>\n",
       "      <th>2391.884049</th>\n",
       "      <th>1009.633194</th>\n",
       "      <th>1797</th>\n",
       "      <th>1.961234</th>\n",
       "      <th>FFF_4s</th>\n",
       "      <td>[1288, 2286, 7838, 8201, 8756, 9076, 11035, 13...</td>\n",
       "      <td>0.828355</td>\n",
       "      <td>0.229475</td>\n",
       "      <td>7.0</td>\n",
       "      <td>1.330605</td>\n",
       "      <td>3592.0</td>\n",
       "      <td>[1.0, 1.0, 2.0, 2.0, 2.0, 2.0, 2.0, 2.0, 0.0, ...</td>\n",
       "      <td>[0.0, 0.05004443610133947, 0.05004443610133947...</td>\n",
       "      <td>0.544970</td>\n",
       "      <td>0.232252</td>\n",
       "      <td>1.280984</td>\n",
       "      <td>NaN</td>\n",
       "    </tr>\n",
       "    <tr>\n",
       "      <th>10</th>\n",
       "      <th>1428.523538</th>\n",
       "      <th>84.865417</th>\n",
       "      <th>1910</th>\n",
       "      <th>2.084561</th>\n",
       "      <th>FFF_4s</th>\n",
       "      <td>[4586, 4741, 5027, 5110, 5522, 6757, 7740, 826...</td>\n",
       "      <td>0.892590</td>\n",
       "      <td>0.287405</td>\n",
       "      <td>17.0</td>\n",
       "      <td>4.361088</td>\n",
       "      <td>3816.0</td>\n",
       "      <td>[0.0, 0.0, 0.0, 0.0, 1.0, 1.0, 2.0, 2.0, 3.0, ...</td>\n",
       "      <td>[0.0, 0.05004443610133947, 0.05004443610133947...</td>\n",
       "      <td>0.556381</td>\n",
       "      <td>0.276233</td>\n",
       "      <td>4.441565</td>\n",
       "      <td>NaN</td>\n",
       "    </tr>\n",
       "    <tr>\n",
       "      <th>11</th>\n",
       "      <th>1974.677832</th>\n",
       "      <th>210.872517</th>\n",
       "      <th>1840</th>\n",
       "      <th>2.008164</th>\n",
       "      <th>FFF_4s</th>\n",
       "      <td>[1122, 1877, 2615, 4264, 8588, 15099, 16330, 2...</td>\n",
       "      <td>0.853895</td>\n",
       "      <td>0.239070</td>\n",
       "      <td>7.0</td>\n",
       "      <td>1.428986</td>\n",
       "      <td>3670.0</td>\n",
       "      <td>[1.0, 1.0, 3.0, 3.0, 4.0, 4.0, 1.0, 1.0, 2.0, ...</td>\n",
       "      <td>[0.0, 0.05004443610133947, 0.05004443610133947...</td>\n",
       "      <td>0.572685</td>\n",
       "      <td>0.252584</td>\n",
       "      <td>1.318201</td>\n",
       "      <td>NaN</td>\n",
       "    </tr>\n",
       "    <tr>\n",
       "      <th>...</th>\n",
       "      <th>...</th>\n",
       "      <th>...</th>\n",
       "      <th>...</th>\n",
       "      <th>...</th>\n",
       "      <th>...</th>\n",
       "      <td>...</td>\n",
       "      <td>...</td>\n",
       "      <td>...</td>\n",
       "      <td>...</td>\n",
       "      <td>...</td>\n",
       "      <td>...</td>\n",
       "      <td>...</td>\n",
       "      <td>...</td>\n",
       "      <td>...</td>\n",
       "      <td>...</td>\n",
       "      <td>...</td>\n",
       "      <td>...</td>\n",
       "    </tr>\n",
       "    <tr>\n",
       "      <th>4088</th>\n",
       "      <th>672.280289</th>\n",
       "      <th>1973.772439</th>\n",
       "      <th>0</th>\n",
       "      <th>0.000000</th>\n",
       "      <th>FFF_2s</th>\n",
       "      <td>[--, --, --, --, --, --, --, --, --, --, --, -...</td>\n",
       "      <td>0.000000</td>\n",
       "      <td>0.000000</td>\n",
       "      <td>0.0</td>\n",
       "      <td>0.000000</td>\n",
       "      <td>0.0</td>\n",
       "      <td>[0.0, 0.0, 0.0, 0.0, 0.0, 0.0, 0.0, 0.0, 0.0, ...</td>\n",
       "      <td>[0.0, 0.05009322485543222, 0.05009322485543222...</td>\n",
       "      <td>0.000000</td>\n",
       "      <td>1.000000</td>\n",
       "      <td>0.000000</td>\n",
       "      <td>NaN</td>\n",
       "    </tr>\n",
       "    <tr>\n",
       "      <th>4089</th>\n",
       "      <th>671.342113</th>\n",
       "      <th>2015.592588</th>\n",
       "      <th>0</th>\n",
       "      <th>0.000000</th>\n",
       "      <th>FFF_2s</th>\n",
       "      <td>[--, --, --, --, --, --, --, --, --, --, --, -...</td>\n",
       "      <td>0.000000</td>\n",
       "      <td>0.000000</td>\n",
       "      <td>0.0</td>\n",
       "      <td>0.000000</td>\n",
       "      <td>0.0</td>\n",
       "      <td>[0.0, 0.0, 0.0, 0.0, 0.0, 0.0, 0.0, 0.0, 0.0, ...</td>\n",
       "      <td>[0.0, 0.05009322485543222, 0.05009322485543222...</td>\n",
       "      <td>0.000000</td>\n",
       "      <td>1.000000</td>\n",
       "      <td>0.000000</td>\n",
       "      <td>NaN</td>\n",
       "    </tr>\n",
       "    <tr>\n",
       "      <th>4090</th>\n",
       "      <th>587.825516</th>\n",
       "      <th>1596.597320</th>\n",
       "      <th>0</th>\n",
       "      <th>0.000000</th>\n",
       "      <th>FFF_2s</th>\n",
       "      <td>[--, --, --, --, --, --, --, --, --, --, --, -...</td>\n",
       "      <td>0.000000</td>\n",
       "      <td>0.000000</td>\n",
       "      <td>0.0</td>\n",
       "      <td>0.000000</td>\n",
       "      <td>0.0</td>\n",
       "      <td>[0.0, 0.0, 0.0, 0.0, 0.0, 0.0, 0.0, 0.0, 0.0, ...</td>\n",
       "      <td>[0.0, 0.05009322485543222, 0.05009322485543222...</td>\n",
       "      <td>0.000000</td>\n",
       "      <td>1.000000</td>\n",
       "      <td>0.000000</td>\n",
       "      <td>NaN</td>\n",
       "    </tr>\n",
       "    <tr>\n",
       "      <th>4091</th>\n",
       "      <th>546.126995</th>\n",
       "      <th>1889.503810</th>\n",
       "      <th>0</th>\n",
       "      <th>0.000000</th>\n",
       "      <th>FFF_2s</th>\n",
       "      <td>[--, --, --, --, --, --, --, --, --, --, --, -...</td>\n",
       "      <td>0.000000</td>\n",
       "      <td>0.000000</td>\n",
       "      <td>0.0</td>\n",
       "      <td>0.000000</td>\n",
       "      <td>0.0</td>\n",
       "      <td>[0.0, 0.0, 0.0, 0.0, 0.0, 0.0, 0.0, 0.0, 0.0, ...</td>\n",
       "      <td>[0.0, 0.05009322485543222, 0.05009322485543222...</td>\n",
       "      <td>0.000000</td>\n",
       "      <td>1.000000</td>\n",
       "      <td>0.000000</td>\n",
       "      <td>NaN</td>\n",
       "    </tr>\n",
       "    <tr>\n",
       "      <th>4092</th>\n",
       "      <th>503.910048</th>\n",
       "      <th>1638.296715</th>\n",
       "      <th>0</th>\n",
       "      <th>0.000000</th>\n",
       "      <th>FFF_2s</th>\n",
       "      <td>[--, --, --, --, --, --, --, --, --, --, --, -...</td>\n",
       "      <td>0.000000</td>\n",
       "      <td>0.000000</td>\n",
       "      <td>0.0</td>\n",
       "      <td>0.000000</td>\n",
       "      <td>0.0</td>\n",
       "      <td>[0.0, 0.0, 0.0, 0.0, 0.0, 0.0, 0.0, 0.0, 0.0, ...</td>\n",
       "      <td>[0.0, 0.05009322485543222, 0.05009322485543222...</td>\n",
       "      <td>0.000000</td>\n",
       "      <td>1.000000</td>\n",
       "      <td>0.000000</td>\n",
       "      <td>NaN</td>\n",
       "    </tr>\n",
       "  </tbody>\n",
       "</table>\n",
       "<p>8170 rows × 12 columns</p>\n",
       "</div>"
      ],
      "text/plain": [
       "                                                                                                                   Spikes  \\\n",
       "Cell index Centres x   Centres y   Nr of Spikes Area     Stimulus name                                                      \n",
       "7          0.087701    41.940815   29           0.031650 FFF_4s         [142839, 285680, 428502, 571919, 714742, 85814...   \n",
       "8          2436.360360 1847.361522 2354         2.569140 FFF_4s         [4018, 5458, 9100, 9189, 13111, 15130, 15957, ...   \n",
       "9          2391.884049 1009.633194 1797         1.961234 FFF_4s         [1288, 2286, 7838, 8201, 8756, 9076, 11035, 13...   \n",
       "10         1428.523538 84.865417   1910         2.084561 FFF_4s         [4586, 4741, 5027, 5110, 5522, 6757, 7740, 826...   \n",
       "11         1974.677832 210.872517  1840         2.008164 FFF_4s         [1122, 1877, 2615, 4264, 8588, 15099, 16330, 2...   \n",
       "...                                                                                                                   ...   \n",
       "4088       672.280289  1973.772439 0            0.000000 FFF_2s         [--, --, --, --, --, --, --, --, --, --, --, -...   \n",
       "4089       671.342113  2015.592588 0            0.000000 FFF_2s         [--, --, --, --, --, --, --, --, --, --, --, -...   \n",
       "4090       587.825516  1596.597320 0            0.000000 FFF_2s         [--, --, --, --, --, --, --, --, --, --, --, -...   \n",
       "4091       546.126995  1889.503810 0            0.000000 FFF_2s         [--, --, --, --, --, --, --, --, --, --, --, -...   \n",
       "4092       503.910048  1638.296715 0            0.000000 FFF_2s         [--, --, --, --, --, --, --, --, --, --, --, -...   \n",
       "\n",
       "                                                                         Max isi  \\\n",
       "Cell index Centres x   Centres y   Nr of Spikes Area     Stimulus name             \n",
       "7          0.087701    41.940815   29           0.031650 FFF_4s         0.546657   \n",
       "8          2436.360360 1847.361522 2354         2.569140 FFF_4s         0.858190   \n",
       "9          2391.884049 1009.633194 1797         1.961234 FFF_4s         0.828355   \n",
       "10         1428.523538 84.865417   1910         2.084561 FFF_4s         0.892590   \n",
       "11         1974.677832 210.872517  1840         2.008164 FFF_4s         0.853895   \n",
       "...                                                                          ...   \n",
       "4088       672.280289  1973.772439 0            0.000000 FFF_2s         0.000000   \n",
       "4089       671.342113  2015.592588 0            0.000000 FFF_2s         0.000000   \n",
       "4090       587.825516  1596.597320 0            0.000000 FFF_2s         0.000000   \n",
       "4091       546.126995  1889.503810 0            0.000000 FFF_2s         0.000000   \n",
       "4092       503.910048  1638.296715 0            0.000000 FFF_2s         0.000000   \n",
       "\n",
       "                                                                        Std sync  \\\n",
       "Cell index Centres x   Centres y   Nr of Spikes Area     Stimulus name             \n",
       "7          0.087701    41.940815   29           0.031650 FFF_4s         0.248039   \n",
       "8          2436.360360 1847.361522 2354         2.569140 FFF_4s         0.237926   \n",
       "9          2391.884049 1009.633194 1797         1.961234 FFF_4s         0.229475   \n",
       "10         1428.523538 84.865417   1910         2.084561 FFF_4s         0.287405   \n",
       "11         1974.677832 210.872517  1840         2.008164 FFF_4s         0.239070   \n",
       "...                                                                          ...   \n",
       "4088       672.280289  1973.772439 0            0.000000 FFF_2s         0.000000   \n",
       "4089       671.342113  2015.592588 0            0.000000 FFF_2s         0.000000   \n",
       "4090       587.825516  1596.597320 0            0.000000 FFF_2s         0.000000   \n",
       "4091       546.126995  1889.503810 0            0.000000 FFF_2s         0.000000   \n",
       "4092       503.910048  1638.296715 0            0.000000 FFF_2s         0.000000   \n",
       "\n",
       "                                                                        Max psth  \\\n",
       "Cell index Centres x   Centres y   Nr of Spikes Area     Stimulus name             \n",
       "7          0.087701    41.940815   29           0.031650 FFF_4s              3.0   \n",
       "8          2436.360360 1847.361522 2354         2.569140 FFF_4s              9.0   \n",
       "9          2391.884049 1009.633194 1797         1.961234 FFF_4s              7.0   \n",
       "10         1428.523538 84.865417   1910         2.084561 FFF_4s             17.0   \n",
       "11         1974.677832 210.872517  1840         2.008164 FFF_4s              7.0   \n",
       "...                                                                          ...   \n",
       "4088       672.280289  1973.772439 0            0.000000 FFF_2s              0.0   \n",
       "4089       671.342113  2015.592588 0            0.000000 FFF_2s              0.0   \n",
       "4090       587.825516  1596.597320 0            0.000000 FFF_2s              0.0   \n",
       "4091       546.126995  1889.503810 0            0.000000 FFF_2s              0.0   \n",
       "4092       503.910048  1638.296715 0            0.000000 FFF_2s              0.0   \n",
       "\n",
       "                                                                        Total qc  \\\n",
       "Cell index Centres x   Centres y   Nr of Spikes Area     Stimulus name             \n",
       "7          0.087701    41.940815   29           0.031650 FFF_4s         0.406777   \n",
       "8          2436.360360 1847.361522 2354         2.569140 FFF_4s         1.837668   \n",
       "9          2391.884049 1009.633194 1797         1.961234 FFF_4s         1.330605   \n",
       "10         1428.523538 84.865417   1910         2.084561 FFF_4s         4.361088   \n",
       "11         1974.677832 210.872517  1840         2.008164 FFF_4s         1.428986   \n",
       "...                                                                          ...   \n",
       "4088       672.280289  1973.772439 0            0.000000 FFF_2s         0.000000   \n",
       "4089       671.342113  2015.592588 0            0.000000 FFF_2s         0.000000   \n",
       "4090       587.825516  1596.597320 0            0.000000 FFF_2s         0.000000   \n",
       "4091       546.126995  1889.503810 0            0.000000 FFF_2s         0.000000   \n",
       "4092       503.910048  1638.296715 0            0.000000 FFF_2s         0.000000   \n",
       "\n",
       "                                                                        stimulus spikes  \\\n",
       "Cell index Centres x   Centres y   Nr of Spikes Area     Stimulus name                    \n",
       "7          0.087701    41.940815   29           0.031650 FFF_4s                    18.0   \n",
       "8          2436.360360 1847.361522 2354         2.569140 FFF_4s                  4706.0   \n",
       "9          2391.884049 1009.633194 1797         1.961234 FFF_4s                  3592.0   \n",
       "10         1428.523538 84.865417   1910         2.084561 FFF_4s                  3816.0   \n",
       "11         1974.677832 210.872517  1840         2.008164 FFF_4s                  3670.0   \n",
       "...                                                                                 ...   \n",
       "4088       672.280289  1973.772439 0            0.000000 FFF_2s                     0.0   \n",
       "4089       671.342113  2015.592588 0            0.000000 FFF_2s                     0.0   \n",
       "4090       587.825516  1596.597320 0            0.000000 FFF_2s                     0.0   \n",
       "4091       546.126995  1889.503810 0            0.000000 FFF_2s                     0.0   \n",
       "4092       503.910048  1638.296715 0            0.000000 FFF_2s                     0.0   \n",
       "\n",
       "                                                                                                                Histogram  \\\n",
       "Cell index Centres x   Centres y   Nr of Spikes Area     Stimulus name                                                      \n",
       "7          0.087701    41.940815   29           0.031650 FFF_4s         [0.0, 0.0, 0.0, 0.0, 0.0, 0.0, 0.0, 0.0, 0.0, ...   \n",
       "8          2436.360360 1847.361522 2354         2.569140 FFF_4s         [4.0, 4.0, 2.0, 2.0, 1.0, 1.0, 2.0, 2.0, 5.0, ...   \n",
       "9          2391.884049 1009.633194 1797         1.961234 FFF_4s         [1.0, 1.0, 2.0, 2.0, 2.0, 2.0, 2.0, 2.0, 0.0, ...   \n",
       "10         1428.523538 84.865417   1910         2.084561 FFF_4s         [0.0, 0.0, 0.0, 0.0, 1.0, 1.0, 2.0, 2.0, 3.0, ...   \n",
       "11         1974.677832 210.872517  1840         2.008164 FFF_4s         [1.0, 1.0, 3.0, 3.0, 4.0, 4.0, 1.0, 1.0, 2.0, ...   \n",
       "...                                                                                                                   ...   \n",
       "4088       672.280289  1973.772439 0            0.000000 FFF_2s         [0.0, 0.0, 0.0, 0.0, 0.0, 0.0, 0.0, 0.0, 0.0, ...   \n",
       "4089       671.342113  2015.592588 0            0.000000 FFF_2s         [0.0, 0.0, 0.0, 0.0, 0.0, 0.0, 0.0, 0.0, 0.0, ...   \n",
       "4090       587.825516  1596.597320 0            0.000000 FFF_2s         [0.0, 0.0, 0.0, 0.0, 0.0, 0.0, 0.0, 0.0, 0.0, ...   \n",
       "4091       546.126995  1889.503810 0            0.000000 FFF_2s         [0.0, 0.0, 0.0, 0.0, 0.0, 0.0, 0.0, 0.0, 0.0, ...   \n",
       "4092       503.910048  1638.296715 0            0.000000 FFF_2s         [0.0, 0.0, 0.0, 0.0, 0.0, 0.0, 0.0, 0.0, 0.0, ...   \n",
       "\n",
       "                                                                                                                     Bins  \\\n",
       "Cell index Centres x   Centres y   Nr of Spikes Area     Stimulus name                                                      \n",
       "7          0.087701    41.940815   29           0.031650 FFF_4s         [0.0, 0.05004443610133947, 0.05004443610133947...   \n",
       "8          2436.360360 1847.361522 2354         2.569140 FFF_4s         [0.0, 0.05004443610133947, 0.05004443610133947...   \n",
       "9          2391.884049 1009.633194 1797         1.961234 FFF_4s         [0.0, 0.05004443610133947, 0.05004443610133947...   \n",
       "10         1428.523538 84.865417   1910         2.084561 FFF_4s         [0.0, 0.05004443610133947, 0.05004443610133947...   \n",
       "11         1974.677832 210.872517  1840         2.008164 FFF_4s         [0.0, 0.05004443610133947, 0.05004443610133947...   \n",
       "...                                                                                                                   ...   \n",
       "4088       672.280289  1973.772439 0            0.000000 FFF_2s         [0.0, 0.05009322485543222, 0.05009322485543222...   \n",
       "4089       671.342113  2015.592588 0            0.000000 FFF_2s         [0.0, 0.05009322485543222, 0.05009322485543222...   \n",
       "4090       587.825516  1596.597320 0            0.000000 FFF_2s         [0.0, 0.05009322485543222, 0.05009322485543222...   \n",
       "4091       546.126995  1889.503810 0            0.000000 FFF_2s         [0.0, 0.05009322485543222, 0.05009322485543222...   \n",
       "4092       503.910048  1638.296715 0            0.000000 FFF_2s         [0.0, 0.05009322485543222, 0.05009322485543222...   \n",
       "\n",
       "                                                                        ISI mean  \\\n",
       "Cell index Centres x   Centres y   Nr of Spikes Area     Stimulus name             \n",
       "7          0.087701    41.940815   29           0.031650 FFF_4s         0.488729   \n",
       "8          2436.360360 1847.361522 2354         2.569140 FFF_4s         0.576233   \n",
       "9          2391.884049 1009.633194 1797         1.961234 FFF_4s         0.544970   \n",
       "10         1428.523538 84.865417   1910         2.084561 FFF_4s         0.556381   \n",
       "11         1974.677832 210.872517  1840         2.008164 FFF_4s         0.572685   \n",
       "...                                                                          ...   \n",
       "4088       672.280289  1973.772439 0            0.000000 FFF_2s         0.000000   \n",
       "4089       671.342113  2015.592588 0            0.000000 FFF_2s         0.000000   \n",
       "4090       587.825516  1596.597320 0            0.000000 FFF_2s         0.000000   \n",
       "4091       546.126995  1889.503810 0            0.000000 FFF_2s         0.000000   \n",
       "4092       503.910048  1638.296715 0            0.000000 FFF_2s         0.000000   \n",
       "\n",
       "                                                                        mean sync  \\\n",
       "Cell index Centres x   Centres y   Nr of Spikes Area     Stimulus name              \n",
       "7          0.087701    41.940815   29           0.031650 FFF_4s          0.343750   \n",
       "8          2436.360360 1847.361522 2354         2.569140 FFF_4s          0.220901   \n",
       "9          2391.884049 1009.633194 1797         1.961234 FFF_4s          0.232252   \n",
       "10         1428.523538 84.865417   1910         2.084561 FFF_4s          0.276233   \n",
       "11         1974.677832 210.872517  1840         2.008164 FFF_4s          0.252584   \n",
       "...                                                                           ...   \n",
       "4088       672.280289  1973.772439 0            0.000000 FFF_2s          1.000000   \n",
       "4089       671.342113  2015.592588 0            0.000000 FFF_2s          1.000000   \n",
       "4090       587.825516  1596.597320 0            0.000000 FFF_2s          1.000000   \n",
       "4091       546.126995  1889.503810 0            0.000000 FFF_2s          1.000000   \n",
       "4092       503.910048  1638.296715 0            0.000000 FFF_2s          1.000000   \n",
       "\n",
       "                                                                        total qc new  \\\n",
       "Cell index Centres x   Centres y   Nr of Spikes Area     Stimulus name                 \n",
       "7          0.087701    41.940815   29           0.031650 FFF_4s             0.806595   \n",
       "8          2436.360360 1847.361522 2354         2.569140 FFF_4s             1.658382   \n",
       "9          2391.884049 1009.633194 1797         1.961234 FFF_4s             1.280984   \n",
       "10         1428.523538 84.865417   1910         2.084561 FFF_4s             4.441565   \n",
       "11         1974.677832 210.872517  1840         2.008164 FFF_4s             1.318201   \n",
       "...                                                                              ...   \n",
       "4088       672.280289  1973.772439 0            0.000000 FFF_2s             0.000000   \n",
       "4089       671.342113  2015.592588 0            0.000000 FFF_2s             0.000000   \n",
       "4090       587.825516  1596.597320 0            0.000000 FFF_2s             0.000000   \n",
       "4091       546.126995  1889.503810 0            0.000000 FFF_2s             0.000000   \n",
       "4092       503.910048  1638.296715 0            0.000000 FFF_2s             0.000000   \n",
       "\n",
       "                                                                          New_qi  \n",
       "Cell index Centres x   Centres y   Nr of Spikes Area     Stimulus name            \n",
       "7          0.087701    41.940815   29           0.031650 FFF_4s         0.665877  \n",
       "8          2436.360360 1847.361522 2354         2.569140 FFF_4s         0.294502  \n",
       "9          2391.884049 1009.633194 1797         1.961234 FFF_4s              NaN  \n",
       "10         1428.523538 84.865417   1910         2.084561 FFF_4s              NaN  \n",
       "11         1974.677832 210.872517  1840         2.008164 FFF_4s              NaN  \n",
       "...                                                                          ...  \n",
       "4088       672.280289  1973.772439 0            0.000000 FFF_2s              NaN  \n",
       "4089       671.342113  2015.592588 0            0.000000 FFF_2s              NaN  \n",
       "4090       587.825516  1596.597320 0            0.000000 FFF_2s              NaN  \n",
       "4091       546.126995  1889.503810 0            0.000000 FFF_2s              NaN  \n",
       "4092       503.910048  1638.296715 0            0.000000 FFF_2s              NaN  \n",
       "\n",
       "[8170 rows x 12 columns]"
      ]
     },
     "execution_count": 177,
     "metadata": {},
     "output_type": "execute_result"
    }
   ],
   "source": [
    "pd_parent"
   ]
  },
  {
   "cell_type": "code",
   "execution_count": 149,
   "id": "48fd0077",
   "metadata": {},
   "outputs": [
    {
     "data": {
      "text/plain": [
       "56"
      ]
     },
     "execution_count": 149,
     "metadata": {},
     "output_type": "execute_result"
    }
   ],
   "source": [
    "sum((pd_parent.xs(\"FFF_3\", level=\"Stimulus name\")['New_qi'])>0.3)"
   ]
  },
  {
   "cell_type": "code",
   "execution_count": 178,
   "id": "f09be596",
   "metadata": {},
   "outputs": [
    {
     "data": {
      "application/vnd.jupyter.widget-view+json": {
       "model_id": "b002bfde53194628a13fb58f4e95e9ee",
       "version_major": 2,
       "version_minor": 0
      },
      "text/plain": [
       "Canvas(toolbar=Toolbar(toolitems=[('Home', 'Reset original view', 'home', 'home'), ('Back', 'Back to previous …"
      ]
     },
     "metadata": {},
     "output_type": "display_data"
    },
    {
     "data": {
      "text/plain": [
       "(0.0, 1.0)"
      ]
     },
     "execution_count": 178,
     "metadata": {},
     "output_type": "execute_result"
    }
   ],
   "source": [
    "plt.figure()\n",
    "plt.scatter(pd_parent[:len(chosen_ones)]['total qc new'], pd_parent[:len(chosen_ones)]['New_qi'])\n",
    "plt.ylim(0,1)\n",
    "plt.scatter(pd_parent[len(chosen_ones):]['total qc new'], pd_parent[len(chosen_ones):]['New_qi'])\n",
    "plt.ylim(0,1)"
   ]
  },
  {
   "cell_type": "code",
   "execution_count": null,
   "id": "b5291233",
   "metadata": {},
   "outputs": [],
   "source": []
  },
  {
   "cell_type": "code",
   "execution_count": null,
   "id": "65dfe782",
   "metadata": {},
   "outputs": [],
   "source": []
  },
  {
   "cell_type": "code",
   "execution_count": null,
   "id": "5bf265f2",
   "metadata": {},
   "outputs": [],
   "source": []
  },
  {
   "cell_type": "code",
   "execution_count": 201,
   "id": "eeee7ee7",
   "metadata": {},
   "outputs": [
    {
     "name": "stdout",
     "output_type": "stream",
     "text": [
      "6\n"
     ]
    },
    {
     "data": {
      "text/html": [
       "<div>\n",
       "<style scoped>\n",
       "    .dataframe tbody tr th:only-of-type {\n",
       "        vertical-align: middle;\n",
       "    }\n",
       "\n",
       "    .dataframe tbody tr th {\n",
       "        vertical-align: top;\n",
       "    }\n",
       "\n",
       "    .dataframe thead th {\n",
       "        text-align: right;\n",
       "    }\n",
       "</style>\n",
       "<table border=\"1\" class=\"dataframe\">\n",
       "  <thead>\n",
       "    <tr style=\"text-align: right;\">\n",
       "      <th></th>\n",
       "      <th></th>\n",
       "      <th></th>\n",
       "      <th></th>\n",
       "      <th></th>\n",
       "      <th></th>\n",
       "      <th>Spikes</th>\n",
       "      <th>Max isi</th>\n",
       "      <th>Std sync</th>\n",
       "      <th>Max psth</th>\n",
       "      <th>Total qc</th>\n",
       "      <th>stimulus spikes</th>\n",
       "      <th>Histogram</th>\n",
       "      <th>Bins</th>\n",
       "      <th>ISI mean</th>\n",
       "      <th>mean sync</th>\n",
       "      <th>total qc new</th>\n",
       "    </tr>\n",
       "    <tr>\n",
       "      <th>Cell index</th>\n",
       "      <th>Centres x</th>\n",
       "      <th>Centres y</th>\n",
       "      <th>Nr of Spikes</th>\n",
       "      <th>Area</th>\n",
       "      <th>Stimulus name</th>\n",
       "      <th></th>\n",
       "      <th></th>\n",
       "      <th></th>\n",
       "      <th></th>\n",
       "      <th></th>\n",
       "      <th></th>\n",
       "      <th></th>\n",
       "      <th></th>\n",
       "      <th></th>\n",
       "      <th></th>\n",
       "      <th></th>\n",
       "    </tr>\n",
       "  </thead>\n",
       "  <tbody>\n",
       "    <tr>\n",
       "      <th>10</th>\n",
       "      <th>1428.523538</th>\n",
       "      <th>84.865417</th>\n",
       "      <th>1048</th>\n",
       "      <th>1.143780</th>\n",
       "      <th>FFF_3</th>\n",
       "      <td>[4613, 6806, 10582, 10755, 11962, 12670, 14248...</td>\n",
       "      <td>0.837019</td>\n",
       "      <td>0.272186</td>\n",
       "      <td>19.0</td>\n",
       "      <td>4.328663</td>\n",
       "      <td>2092.0</td>\n",
       "      <td>[1.0, 1.0, 0.0, 0.0, 1.0, 1.0, 2.0, 2.0, 2.0, ...</td>\n",
       "      <td>[0.0, 0.05009322485543222, 0.05009322485543222...</td>\n",
       "      <td>0.565850</td>\n",
       "      <td>0.290831</td>\n",
       "      <td>4.695319</td>\n",
       "    </tr>\n",
       "    <tr>\n",
       "      <th>16</th>\n",
       "      <th>2051.180040</th>\n",
       "      <th>1996.205544</th>\n",
       "      <th>726</th>\n",
       "      <th>0.792352</th>\n",
       "      <th>FFF_3</th>\n",
       "      <td>[30719, 31169, 32253, 32705, 32889, 35113, 460...</td>\n",
       "      <td>0.861853</td>\n",
       "      <td>0.254266</td>\n",
       "      <td>20.0</td>\n",
       "      <td>4.382797</td>\n",
       "      <td>1450.0</td>\n",
       "      <td>[0.0, 0.0, 0.0, 0.0, 0.0, 0.0, 0.0, 0.0, 0.0, ...</td>\n",
       "      <td>[0.0, 0.05009322485543222, 0.05009322485543222...</td>\n",
       "      <td>0.569351</td>\n",
       "      <td>0.266207</td>\n",
       "      <td>4.809967</td>\n",
       "    </tr>\n",
       "    <tr>\n",
       "      <th>19</th>\n",
       "      <th>1515.244591</th>\n",
       "      <th>293.099661</th>\n",
       "      <th>507</th>\n",
       "      <th>0.553336</th>\n",
       "      <th>FFF_3</th>\n",
       "      <td>[2481, 16492, 47757, 47917, 48241, 54834, 5495...</td>\n",
       "      <td>0.864604</td>\n",
       "      <td>0.179988</td>\n",
       "      <td>14.0</td>\n",
       "      <td>2.178652</td>\n",
       "      <td>1012.0</td>\n",
       "      <td>[0.0, 0.0, 0.0, 0.0, 2.0, 2.0, 2.0, 2.0, 1.0, ...</td>\n",
       "      <td>[0.0, 0.05009322485543222, 0.05009322485543222...</td>\n",
       "      <td>0.630340</td>\n",
       "      <td>0.109467</td>\n",
       "      <td>2.351232</td>\n",
       "    </tr>\n",
       "    <tr>\n",
       "      <th>23</th>\n",
       "      <th>715.987159</th>\n",
       "      <th>714.968949</th>\n",
       "      <th>625</th>\n",
       "      <th>0.682121</th>\n",
       "      <th>FFF_3</th>\n",
       "      <td>[5721, 6146, 6544, 7279, 9744, 10333, 10585, 1...</td>\n",
       "      <td>0.893502</td>\n",
       "      <td>0.241264</td>\n",
       "      <td>12.0</td>\n",
       "      <td>2.586836</td>\n",
       "      <td>1248.0</td>\n",
       "      <td>[1.0, 1.0, 3.0, 3.0, 0.0, 0.0, 0.0, 0.0, 1.0, ...</td>\n",
       "      <td>[0.0, 0.05009322485543222, 0.05009322485543222...</td>\n",
       "      <td>0.555504</td>\n",
       "      <td>0.232200</td>\n",
       "      <td>2.688107</td>\n",
       "    </tr>\n",
       "    <tr>\n",
       "      <th>24</th>\n",
       "      <th>2523.189146</th>\n",
       "      <th>211.220933</th>\n",
       "      <th>917</th>\n",
       "      <th>1.000808</th>\n",
       "      <th>FFF_3</th>\n",
       "      <td>[8350, 10071, 11263, 12409, 12943, 13048, 1356...</td>\n",
       "      <td>0.856757</td>\n",
       "      <td>0.272269</td>\n",
       "      <td>17.0</td>\n",
       "      <td>3.965562</td>\n",
       "      <td>1828.0</td>\n",
       "      <td>[0.0, 0.0, 2.0, 2.0, 0.0, 0.0, 0.0, 0.0, 0.0, ...</td>\n",
       "      <td>[0.0, 0.05009322485543222, 0.05009322485543222...</td>\n",
       "      <td>0.514689</td>\n",
       "      <td>0.319869</td>\n",
       "      <td>4.241178</td>\n",
       "    </tr>\n",
       "    <tr>\n",
       "      <th>27</th>\n",
       "      <th>1526.236711</th>\n",
       "      <th>2328.688082</th>\n",
       "      <th>128</th>\n",
       "      <th>0.139698</th>\n",
       "      <th>FFF_3</th>\n",
       "      <td>[15500, 31392, 31737, 31974, 45392, 48193, 668...</td>\n",
       "      <td>0.856799</td>\n",
       "      <td>0.284006</td>\n",
       "      <td>7.0</td>\n",
       "      <td>1.703350</td>\n",
       "      <td>254.0</td>\n",
       "      <td>[0.0, 0.0, 0.0, 0.0, 0.0, 0.0, 0.0, 0.0, 0.0, ...</td>\n",
       "      <td>[0.0, 0.05009322485543222, 0.05009322485543222...</td>\n",
       "      <td>0.567970</td>\n",
       "      <td>0.306202</td>\n",
       "      <td>2.035438</td>\n",
       "    </tr>\n",
       "  </tbody>\n",
       "</table>\n",
       "</div>"
      ],
      "text/plain": [
       "                                                                                                                   Spikes  \\\n",
       "Cell index Centres x   Centres y   Nr of Spikes Area     Stimulus name                                                      \n",
       "10         1428.523538 84.865417   1048         1.143780 FFF_3          [4613, 6806, 10582, 10755, 11962, 12670, 14248...   \n",
       "16         2051.180040 1996.205544 726          0.792352 FFF_3          [30719, 31169, 32253, 32705, 32889, 35113, 460...   \n",
       "19         1515.244591 293.099661  507          0.553336 FFF_3          [2481, 16492, 47757, 47917, 48241, 54834, 5495...   \n",
       "23         715.987159  714.968949  625          0.682121 FFF_3          [5721, 6146, 6544, 7279, 9744, 10333, 10585, 1...   \n",
       "24         2523.189146 211.220933  917          1.000808 FFF_3          [8350, 10071, 11263, 12409, 12943, 13048, 1356...   \n",
       "27         1526.236711 2328.688082 128          0.139698 FFF_3          [15500, 31392, 31737, 31974, 45392, 48193, 668...   \n",
       "\n",
       "                                                                         Max isi  \\\n",
       "Cell index Centres x   Centres y   Nr of Spikes Area     Stimulus name             \n",
       "10         1428.523538 84.865417   1048         1.143780 FFF_3          0.837019   \n",
       "16         2051.180040 1996.205544 726          0.792352 FFF_3          0.861853   \n",
       "19         1515.244591 293.099661  507          0.553336 FFF_3          0.864604   \n",
       "23         715.987159  714.968949  625          0.682121 FFF_3          0.893502   \n",
       "24         2523.189146 211.220933  917          1.000808 FFF_3          0.856757   \n",
       "27         1526.236711 2328.688082 128          0.139698 FFF_3          0.856799   \n",
       "\n",
       "                                                                        Std sync  \\\n",
       "Cell index Centres x   Centres y   Nr of Spikes Area     Stimulus name             \n",
       "10         1428.523538 84.865417   1048         1.143780 FFF_3          0.272186   \n",
       "16         2051.180040 1996.205544 726          0.792352 FFF_3          0.254266   \n",
       "19         1515.244591 293.099661  507          0.553336 FFF_3          0.179988   \n",
       "23         715.987159  714.968949  625          0.682121 FFF_3          0.241264   \n",
       "24         2523.189146 211.220933  917          1.000808 FFF_3          0.272269   \n",
       "27         1526.236711 2328.688082 128          0.139698 FFF_3          0.284006   \n",
       "\n",
       "                                                                        Max psth  \\\n",
       "Cell index Centres x   Centres y   Nr of Spikes Area     Stimulus name             \n",
       "10         1428.523538 84.865417   1048         1.143780 FFF_3              19.0   \n",
       "16         2051.180040 1996.205544 726          0.792352 FFF_3              20.0   \n",
       "19         1515.244591 293.099661  507          0.553336 FFF_3              14.0   \n",
       "23         715.987159  714.968949  625          0.682121 FFF_3              12.0   \n",
       "24         2523.189146 211.220933  917          1.000808 FFF_3              17.0   \n",
       "27         1526.236711 2328.688082 128          0.139698 FFF_3               7.0   \n",
       "\n",
       "                                                                        Total qc  \\\n",
       "Cell index Centres x   Centres y   Nr of Spikes Area     Stimulus name             \n",
       "10         1428.523538 84.865417   1048         1.143780 FFF_3          4.328663   \n",
       "16         2051.180040 1996.205544 726          0.792352 FFF_3          4.382797   \n",
       "19         1515.244591 293.099661  507          0.553336 FFF_3          2.178652   \n",
       "23         715.987159  714.968949  625          0.682121 FFF_3          2.586836   \n",
       "24         2523.189146 211.220933  917          1.000808 FFF_3          3.965562   \n",
       "27         1526.236711 2328.688082 128          0.139698 FFF_3          1.703350   \n",
       "\n",
       "                                                                        stimulus spikes  \\\n",
       "Cell index Centres x   Centres y   Nr of Spikes Area     Stimulus name                    \n",
       "10         1428.523538 84.865417   1048         1.143780 FFF_3                   2092.0   \n",
       "16         2051.180040 1996.205544 726          0.792352 FFF_3                   1450.0   \n",
       "19         1515.244591 293.099661  507          0.553336 FFF_3                   1012.0   \n",
       "23         715.987159  714.968949  625          0.682121 FFF_3                   1248.0   \n",
       "24         2523.189146 211.220933  917          1.000808 FFF_3                   1828.0   \n",
       "27         1526.236711 2328.688082 128          0.139698 FFF_3                    254.0   \n",
       "\n",
       "                                                                                                                Histogram  \\\n",
       "Cell index Centres x   Centres y   Nr of Spikes Area     Stimulus name                                                      \n",
       "10         1428.523538 84.865417   1048         1.143780 FFF_3          [1.0, 1.0, 0.0, 0.0, 1.0, 1.0, 2.0, 2.0, 2.0, ...   \n",
       "16         2051.180040 1996.205544 726          0.792352 FFF_3          [0.0, 0.0, 0.0, 0.0, 0.0, 0.0, 0.0, 0.0, 0.0, ...   \n",
       "19         1515.244591 293.099661  507          0.553336 FFF_3          [0.0, 0.0, 0.0, 0.0, 2.0, 2.0, 2.0, 2.0, 1.0, ...   \n",
       "23         715.987159  714.968949  625          0.682121 FFF_3          [1.0, 1.0, 3.0, 3.0, 0.0, 0.0, 0.0, 0.0, 1.0, ...   \n",
       "24         2523.189146 211.220933  917          1.000808 FFF_3          [0.0, 0.0, 2.0, 2.0, 0.0, 0.0, 0.0, 0.0, 0.0, ...   \n",
       "27         1526.236711 2328.688082 128          0.139698 FFF_3          [0.0, 0.0, 0.0, 0.0, 0.0, 0.0, 0.0, 0.0, 0.0, ...   \n",
       "\n",
       "                                                                                                                     Bins  \\\n",
       "Cell index Centres x   Centres y   Nr of Spikes Area     Stimulus name                                                      \n",
       "10         1428.523538 84.865417   1048         1.143780 FFF_3          [0.0, 0.05009322485543222, 0.05009322485543222...   \n",
       "16         2051.180040 1996.205544 726          0.792352 FFF_3          [0.0, 0.05009322485543222, 0.05009322485543222...   \n",
       "19         1515.244591 293.099661  507          0.553336 FFF_3          [0.0, 0.05009322485543222, 0.05009322485543222...   \n",
       "23         715.987159  714.968949  625          0.682121 FFF_3          [0.0, 0.05009322485543222, 0.05009322485543222...   \n",
       "24         2523.189146 211.220933  917          1.000808 FFF_3          [0.0, 0.05009322485543222, 0.05009322485543222...   \n",
       "27         1526.236711 2328.688082 128          0.139698 FFF_3          [0.0, 0.05009322485543222, 0.05009322485543222...   \n",
       "\n",
       "                                                                        ISI mean  \\\n",
       "Cell index Centres x   Centres y   Nr of Spikes Area     Stimulus name             \n",
       "10         1428.523538 84.865417   1048         1.143780 FFF_3          0.565850   \n",
       "16         2051.180040 1996.205544 726          0.792352 FFF_3          0.569351   \n",
       "19         1515.244591 293.099661  507          0.553336 FFF_3          0.630340   \n",
       "23         715.987159  714.968949  625          0.682121 FFF_3          0.555504   \n",
       "24         2523.189146 211.220933  917          1.000808 FFF_3          0.514689   \n",
       "27         1526.236711 2328.688082 128          0.139698 FFF_3          0.567970   \n",
       "\n",
       "                                                                        mean sync  \\\n",
       "Cell index Centres x   Centres y   Nr of Spikes Area     Stimulus name              \n",
       "10         1428.523538 84.865417   1048         1.143780 FFF_3           0.290831   \n",
       "16         2051.180040 1996.205544 726          0.792352 FFF_3           0.266207   \n",
       "19         1515.244591 293.099661  507          0.553336 FFF_3           0.109467   \n",
       "23         715.987159  714.968949  625          0.682121 FFF_3           0.232200   \n",
       "24         2523.189146 211.220933  917          1.000808 FFF_3           0.319869   \n",
       "27         1526.236711 2328.688082 128          0.139698 FFF_3           0.306202   \n",
       "\n",
       "                                                                        total qc new  \n",
       "Cell index Centres x   Centres y   Nr of Spikes Area     Stimulus name                \n",
       "10         1428.523538 84.865417   1048         1.143780 FFF_3              4.695319  \n",
       "16         2051.180040 1996.205544 726          0.792352 FFF_3              4.809967  \n",
       "19         1515.244591 293.099661  507          0.553336 FFF_3              2.351232  \n",
       "23         715.987159  714.968949  625          0.682121 FFF_3              2.688107  \n",
       "24         2523.189146 211.220933  917          1.000808 FFF_3              4.241178  \n",
       "27         1526.236711 2328.688082 128          0.139698 FFF_3              2.035438  "
      ]
     },
     "execution_count": 201,
     "metadata": {},
     "output_type": "execute_result"
    }
   ],
   "source": [
    "print(sum(stimulus_extr.spikes_stimulus['total qc new']>2))\n",
    "stimulus_extr.spikes_stimulus[stimulus_extr.spikes_stimulus['total qc new']>2]"
   ]
  },
  {
   "cell_type": "code",
   "execution_count": 134,
   "id": "1d794e9d",
   "metadata": {},
   "outputs": [],
   "source": [
    "stimulus_traits=Basic.get_stimulus_traits(Test_stimulus.stimuli, 0)"
   ]
  },
  {
   "cell_type": "code",
   "execution_count": 216,
   "id": "e0261c1e",
   "metadata": {},
   "outputs": [
    {
     "data": {
      "application/vnd.plotly.v1+json": {
       "config": {
        "plotlyServerURL": "https://plot.ly"
       },
       "data": [
        {
         "line": {
          "width": 4
         },
         "marker": {
          "color": "Black",
          "size": 3,
          "symbol": "line-ns-open"
         },
         "mode": "markers",
         "name": "Repeat 0",
         "type": "scatter",
         "x": [
          2.272364730812656,
          2.2917454791083864,
          2.4169921646264574,
          3.625992370450269
         ],
         "xaxis": "x",
         "y": [
          0,
          0,
          0,
          0
         ],
         "yaxis": "y"
        },
        {
         "line": {
          "width": 4
         },
         "marker": {
          "color": "Black",
          "size": 3,
          "symbol": "line-ns-open"
         },
         "mode": "markers",
         "name": "Repeat 1",
         "type": "scatter",
         "x": [
          2.278806309003434,
          2.3151592154887775,
          2.370220705589074,
          2.4336842541990804,
          2.487289387491028,
          2.64894499321784,
          3.44658041440627
         ],
         "xaxis": "x",
         "y": [
          1,
          1,
          1,
          1,
          1,
          1,
          1
         ],
         "yaxis": "y"
        },
        {
         "line": {
          "width": 4
         },
         "marker": {
          "color": "Black",
          "size": 3,
          "symbol": "line-ns-open"
         },
         "mode": "markers",
         "name": "Repeat 2",
         "type": "scatter",
         "x": [
          3.5390030580130754
         ],
         "xaxis": "x",
         "y": [
          2
         ],
         "yaxis": "y"
        },
        {
         "line": {
          "width": 4
         },
         "marker": {
          "color": "Black",
          "size": 3,
          "symbol": "line-ns-open"
         },
         "mode": "markers",
         "name": "Repeat 3",
         "type": "scatter",
         "x": [
          2.330955085487031,
          2.608559098647836
         ],
         "xaxis": "x",
         "y": [
          3,
          3
         ],
         "yaxis": "y"
        },
        {
         "line": {
          "width": 4
         },
         "marker": {
          "color": "Black",
          "size": 3,
          "symbol": "line-ns-open"
         },
         "mode": "markers",
         "name": "Repeat 4",
         "type": "scatter",
         "x": [
          2.355377068888587,
          2.388761248033833
         ],
         "xaxis": "x",
         "y": [
          4,
          4
         ],
         "yaxis": "y"
        },
        {
         "line": {
          "width": 4
         },
         "marker": {
          "color": "Black",
          "size": 3,
          "symbol": "line-ns-open"
         },
         "mode": "markers",
         "name": "Repeat 0",
         "type": "scatter",
         "x": [
          2.632308917368615,
          2.6943161091702716,
          2.995389872434865,
          3.4618721608939413,
          3.614173474813277,
          3.9963551095582672
         ],
         "xaxis": "x3",
         "y": [
          0,
          0,
          0,
          0,
          0,
          0
         ],
         "yaxis": "y3"
        },
        {
         "line": {
          "width": 4
         },
         "marker": {
          "color": "Black",
          "size": 3,
          "symbol": "line-ns-open"
         },
         "mode": "markers",
         "name": "Repeat 1",
         "type": "scatter",
         "x": [
          2.2924176437891632,
          2.450712426112092,
          2.557754651525792,
          2.7423198701224125
         ],
         "xaxis": "x3",
         "y": [
          1,
          1,
          1,
          1
         ],
         "yaxis": "y3"
        },
        {
         "line": {
          "width": 4
         },
         "marker": {
          "color": "Black",
          "size": 3,
          "symbol": "line-ns-open"
         },
         "mode": "markers",
         "name": "Repeat 2",
         "type": "scatter",
         "x": [
          2.268667825068384,
          2.3073733079364462,
          2.372853350588783,
          2.7801851471395036,
          3.0603097778532216,
          3.6686748276795935
         ],
         "xaxis": "x3",
         "y": [
          2,
          2,
          2,
          2,
          2,
          2
         ],
         "yaxis": "y3"
        },
        {
         "line": {
          "width": 4
         },
         "marker": {
          "color": "Black",
          "size": 3,
          "symbol": "line-ns-open"
         },
         "mode": "markers",
         "name": "Repeat 3",
         "type": "scatter",
         "x": [
          2.369884623248686
         ],
         "xaxis": "x3",
         "y": [
          3
         ],
         "yaxis": "y3"
        },
        {
         "line": {
          "width": 4
         },
         "marker": {
          "color": "Black",
          "size": 3,
          "symbol": "line-ns-open"
         },
         "mode": "markers",
         "name": "Repeat 4",
         "type": "scatter",
         "x": [
          2.2462623357091585,
          2.3268100699555747,
          2.5643082571633653,
          3.2822921636797484
         ],
         "xaxis": "x3",
         "y": [
          4,
          4,
          4,
          4
         ],
         "yaxis": "y3"
        },
        {
         "line": {
          "width": 4
         },
         "marker": {
          "color": "Black",
          "size": 3,
          "symbol": "line-ns-open"
         },
         "mode": "markers",
         "name": "Repeat 0",
         "type": "scatter",
         "x": [
          0.03517661829398413,
          2.409934435478301,
          3.1315032202921604
         ],
         "xaxis": "x5",
         "y": [
          0,
          0,
          0
         ],
         "yaxis": "y5"
        },
        {
         "line": {
          "width": 4
         },
         "marker": {
          "color": "Black",
          "size": 3,
          "symbol": "line-ns-open"
         },
         "mode": "markers",
         "name": "Repeat 1",
         "type": "scatter",
         "x": [
          2.272812840599841,
          2.3457427084641203,
          2.5018529555745244,
          2.5775835096087065,
          2.697957001191146,
          3.0033998348807884
         ],
         "xaxis": "x5",
         "y": [
          1,
          1,
          1,
          1,
          1,
          1
         ],
         "yaxis": "y5"
        },
        {
         "line": {
          "width": 4
         },
         "marker": {
          "color": "Black",
          "size": 3,
          "symbol": "line-ns-open"
         },
         "mode": "markers",
         "name": "Repeat 2",
         "type": "scatter",
         "x": [
          2.2970107691078048,
          2.3924581537781053,
          2.8859950706384465
         ],
         "xaxis": "x5",
         "y": [
          2,
          2,
          2
         ],
         "yaxis": "y5"
        },
        {
         "line": {
          "width": 4
         },
         "marker": {
          "color": "Black",
          "size": 3,
          "symbol": "line-ns-open"
         },
         "mode": "markers",
         "name": "Repeat 3",
         "type": "scatter",
         "x": [
          2.2680516741110055,
          2.523698307699769,
          3.486238130572099
         ],
         "xaxis": "x5",
         "y": [
          3,
          3,
          3
         ],
         "yaxis": "y5"
        },
        {
         "line": {
          "width": 4
         },
         "marker": {
          "color": "Black",
          "size": 3,
          "symbol": "line-ns-open"
         },
         "mode": "markers",
         "name": "Repeat 4",
         "type": "scatter",
         "x": [
          2.5650924492909386,
          2.629620258645508,
          2.767133949587755,
          3.1576616291190565,
          3.598825714602208
         ],
         "xaxis": "x5",
         "y": [
          4,
          4,
          4,
          4,
          4
         ],
         "yaxis": "y5"
        },
        {
         "line": {
          "width": 4
         },
         "marker": {
          "color": "Black",
          "size": 3,
          "symbol": "line-ns-open"
         },
         "mode": "markers",
         "name": "Repeat 0",
         "type": "scatter",
         "x": [
          2.2617221233670244,
          2.461355033557724,
          2.557866678972588,
          3.229919332302559,
          3.414876646962966
         ],
         "xaxis": "x7",
         "y": [
          0,
          0,
          0,
          0,
          0
         ],
         "yaxis": "y7"
        },
        {
         "line": {
          "width": 4
         },
         "marker": {
          "color": "Black",
          "size": 3,
          "symbol": "line-ns-open"
         },
         "mode": "markers",
         "name": "Repeat 1",
         "type": "scatter",
         "x": [
          2.2602657665586747,
          2.3187440937862536,
          2.3916179479271347,
          2.8196748221351386,
          2.8562517835140744,
          3.0096173581779735,
          3.1734014853939123,
          3.4125240705802473,
          3.7835029606456243
         ],
         "xaxis": "x7",
         "y": [
          1,
          1,
          1,
          1,
          1,
          1,
          1,
          1,
          1
         ],
         "yaxis": "y7"
        },
        {
         "line": {
          "width": 4
         },
         "marker": {
          "color": "Black",
          "size": 3,
          "symbol": "line-ns-open"
         },
         "mode": "markers",
         "name": "Repeat 2",
         "type": "scatter",
         "x": [
          2.322216944636933,
          2.468636817599472
         ],
         "xaxis": "x7",
         "y": [
          2,
          2
         ],
         "yaxis": "y7"
        },
        {
         "line": {
          "width": 4
         },
         "marker": {
          "color": "Black",
          "size": 3,
          "symbol": "line-ns-open"
         },
         "mode": "markers",
         "name": "Repeat 3",
         "type": "scatter",
         "x": [
          2.78405009405397,
          3.2560777411294546
         ],
         "xaxis": "x7",
         "y": [
          3,
          3
         ],
         "yaxis": "y7"
        },
        {
         "line": {
          "width": 4
         },
         "marker": {
          "color": "Black",
          "size": 3,
          "symbol": "line-ns-open"
         },
         "mode": "markers",
         "name": "Repeat 4",
         "type": "scatter",
         "x": [
          2.348263326017033
         ],
         "xaxis": "x7",
         "y": [
          4
         ],
         "yaxis": "y7"
        },
        {
         "line": {
          "width": 4
         },
         "marker": {
          "color": "Black",
          "size": 3,
          "symbol": "line-ns-open"
         },
         "mode": "markers",
         "name": "Repeat 0",
         "type": "scatter",
         "x": [
          2.26995614070654,
          2.65415426949386,
          3.3679931604787865
         ],
         "xaxis": "x9",
         "y": [
          0,
          0,
          0
         ],
         "yaxis": "y9"
        },
        {
         "line": {
          "width": 4
         },
         "marker": {
          "color": "Black",
          "size": 3,
          "symbol": "line-ns-open"
         },
         "mode": "markers",
         "name": "Repeat 1",
         "type": "scatter",
         "x": [
          2.2926416986827554,
          2.3354361833588766
         ],
         "xaxis": "x9",
         "y": [
          1,
          1
         ],
         "yaxis": "y9"
        },
        {
         "line": {
          "width": 4
         },
         "marker": {
          "color": "Black",
          "size": 3,
          "symbol": "line-ns-open"
         },
         "mode": "markers",
         "name": "Repeat 2",
         "type": "scatter",
         "x": [
          2.319472272190428,
          2.366411772398006,
          2.511431302275593
         ],
         "xaxis": "x9",
         "y": [
          2,
          2,
          2
         ],
         "yaxis": "y9"
        },
        {
         "line": {
          "width": 4
         },
         "marker": {
          "color": "Black",
          "size": 3,
          "symbol": "line-ns-open"
         },
         "mode": "markers",
         "name": "Repeat 3",
         "type": "scatter",
         "x": [
          2.4434306420703438
         ],
         "xaxis": "x9",
         "y": [
          3
         ],
         "yaxis": "y9"
        },
        {
         "line": {
          "width": 4
         },
         "marker": {
          "color": "Black",
          "size": 3,
          "symbol": "line-ns-open"
         },
         "mode": "markers",
         "name": "Repeat 4",
         "type": "scatter",
         "x": [
          2.299979496447902,
          2.343894255591984,
          2.3715650349506276,
          2.3900495636719885
         ],
         "xaxis": "x9",
         "y": [
          4,
          4,
          4,
          4
         ],
         "yaxis": "y9"
        },
        {
         "line": {
          "width": 4
         },
         "marker": {
          "color": "Black",
          "size": 3,
          "symbol": "line-ns-open"
         },
         "mode": "markers",
         "name": "Repeat 0",
         "type": "scatter",
         "x": [
          2.0111727386074842,
          2.077941096897977,
          2.1498627177410907,
          2.3179038879352825
         ],
         "xaxis": "x11",
         "y": [
          0,
          0,
          0,
          0
         ],
         "yaxis": "y11"
        },
        {
         "line": {
          "width": 4
         },
         "marker": {
          "color": "Black",
          "size": 3,
          "symbol": "line-ns-open"
         },
         "mode": "markers",
         "name": "Repeat 1",
         "type": "scatter",
         "x": [],
         "xaxis": "x11",
         "y": [],
         "yaxis": "y11"
        },
        {
         "line": {
          "width": 4
         },
         "marker": {
          "color": "Black",
          "size": 3,
          "symbol": "line-ns-open"
         },
         "mode": "markers",
         "name": "Repeat 2",
         "type": "scatter",
         "x": [],
         "xaxis": "x11",
         "y": [],
         "yaxis": "y11"
        },
        {
         "line": {
          "width": 4
         },
         "marker": {
          "color": "Black",
          "size": 3,
          "symbol": "line-ns-open"
         },
         "mode": "markers",
         "name": "Repeat 3",
         "type": "scatter",
         "x": [],
         "xaxis": "x11",
         "y": [],
         "yaxis": "y11"
        },
        {
         "line": {
          "width": 4
         },
         "marker": {
          "color": "Black",
          "size": 3,
          "symbol": "line-ns-open"
         },
         "mode": "markers",
         "name": "Repeat 4",
         "type": "scatter",
         "x": [],
         "xaxis": "x11",
         "y": [],
         "yaxis": "y11"
        }
       ],
       "layout": {
        "autosize": true,
        "shapes": [
         {
          "fillcolor": "#FE7C7C",
          "layer": "below",
          "line": {
           "color": "#FE7C7C",
           "width": 1
          },
          "opacity": 0.2,
          "type": "rect",
          "x0": 0,
          "x1": 2,
          "xref": "x",
          "y0": 0,
          "y1": 5,
          "yref": "y"
         },
         {
          "fillcolor": "#FAFE7C",
          "layer": "below",
          "line": {
           "color": "#FAFE7C",
           "width": 1
          },
          "opacity": 0.2,
          "type": "rect",
          "x0": 0,
          "x1": 2,
          "xref": "x3",
          "y0": 0,
          "y1": 5,
          "yref": "y3"
         },
         {
          "fillcolor": "#8AFE7C",
          "layer": "below",
          "line": {
           "color": "#8AFE7C",
           "width": 1
          },
          "opacity": 0.2,
          "type": "rect",
          "x0": 0,
          "x1": 2,
          "xref": "x5",
          "y0": 0,
          "y1": 5,
          "yref": "y5"
         },
         {
          "fillcolor": "#7CFCFE",
          "layer": "below",
          "line": {
           "color": "#7CFCFE",
           "width": 1
          },
          "opacity": 0.2,
          "type": "rect",
          "x0": 0,
          "x1": 2,
          "xref": "x7",
          "y0": 0,
          "y1": 5,
          "yref": "y7"
         },
         {
          "fillcolor": "#7C86FE",
          "layer": "below",
          "line": {
           "color": "#7C86FE",
           "width": 1
          },
          "opacity": 0.2,
          "type": "rect",
          "x0": 0,
          "x1": 2,
          "xref": "x9",
          "y0": 0,
          "y1": 5,
          "yref": "y9"
         },
         {
          "fillcolor": "#FE7CFE",
          "layer": "below",
          "line": {
           "color": "#FE7CFE",
           "width": 1
          },
          "opacity": 0.2,
          "type": "rect",
          "x0": 0,
          "x1": 2,
          "xref": "x11",
          "y0": 0,
          "y1": 5,
          "yref": "y11"
         }
        ],
        "template": {
         "data": {
          "bar": [
           {
            "error_x": {
             "color": "#2a3f5f"
            },
            "error_y": {
             "color": "#2a3f5f"
            },
            "marker": {
             "line": {
              "color": "#E5ECF6",
              "width": 0.5
             }
            },
            "type": "bar"
           }
          ],
          "barpolar": [
           {
            "marker": {
             "line": {
              "color": "#E5ECF6",
              "width": 0.5
             }
            },
            "type": "barpolar"
           }
          ],
          "carpet": [
           {
            "aaxis": {
             "endlinecolor": "#2a3f5f",
             "gridcolor": "white",
             "linecolor": "white",
             "minorgridcolor": "white",
             "startlinecolor": "#2a3f5f"
            },
            "baxis": {
             "endlinecolor": "#2a3f5f",
             "gridcolor": "white",
             "linecolor": "white",
             "minorgridcolor": "white",
             "startlinecolor": "#2a3f5f"
            },
            "type": "carpet"
           }
          ],
          "choropleth": [
           {
            "colorbar": {
             "outlinewidth": 0,
             "ticks": ""
            },
            "type": "choropleth"
           }
          ],
          "contour": [
           {
            "colorbar": {
             "outlinewidth": 0,
             "ticks": ""
            },
            "colorscale": [
             [
              0,
              "#0d0887"
             ],
             [
              0.1111111111111111,
              "#46039f"
             ],
             [
              0.2222222222222222,
              "#7201a8"
             ],
             [
              0.3333333333333333,
              "#9c179e"
             ],
             [
              0.4444444444444444,
              "#bd3786"
             ],
             [
              0.5555555555555556,
              "#d8576b"
             ],
             [
              0.6666666666666666,
              "#ed7953"
             ],
             [
              0.7777777777777778,
              "#fb9f3a"
             ],
             [
              0.8888888888888888,
              "#fdca26"
             ],
             [
              1,
              "#f0f921"
             ]
            ],
            "type": "contour"
           }
          ],
          "contourcarpet": [
           {
            "colorbar": {
             "outlinewidth": 0,
             "ticks": ""
            },
            "type": "contourcarpet"
           }
          ],
          "heatmap": [
           {
            "colorbar": {
             "outlinewidth": 0,
             "ticks": ""
            },
            "colorscale": [
             [
              0,
              "#0d0887"
             ],
             [
              0.1111111111111111,
              "#46039f"
             ],
             [
              0.2222222222222222,
              "#7201a8"
             ],
             [
              0.3333333333333333,
              "#9c179e"
             ],
             [
              0.4444444444444444,
              "#bd3786"
             ],
             [
              0.5555555555555556,
              "#d8576b"
             ],
             [
              0.6666666666666666,
              "#ed7953"
             ],
             [
              0.7777777777777778,
              "#fb9f3a"
             ],
             [
              0.8888888888888888,
              "#fdca26"
             ],
             [
              1,
              "#f0f921"
             ]
            ],
            "type": "heatmap"
           }
          ],
          "heatmapgl": [
           {
            "colorbar": {
             "outlinewidth": 0,
             "ticks": ""
            },
            "colorscale": [
             [
              0,
              "#0d0887"
             ],
             [
              0.1111111111111111,
              "#46039f"
             ],
             [
              0.2222222222222222,
              "#7201a8"
             ],
             [
              0.3333333333333333,
              "#9c179e"
             ],
             [
              0.4444444444444444,
              "#bd3786"
             ],
             [
              0.5555555555555556,
              "#d8576b"
             ],
             [
              0.6666666666666666,
              "#ed7953"
             ],
             [
              0.7777777777777778,
              "#fb9f3a"
             ],
             [
              0.8888888888888888,
              "#fdca26"
             ],
             [
              1,
              "#f0f921"
             ]
            ],
            "type": "heatmapgl"
           }
          ],
          "histogram": [
           {
            "marker": {
             "colorbar": {
              "outlinewidth": 0,
              "ticks": ""
             }
            },
            "type": "histogram"
           }
          ],
          "histogram2d": [
           {
            "colorbar": {
             "outlinewidth": 0,
             "ticks": ""
            },
            "colorscale": [
             [
              0,
              "#0d0887"
             ],
             [
              0.1111111111111111,
              "#46039f"
             ],
             [
              0.2222222222222222,
              "#7201a8"
             ],
             [
              0.3333333333333333,
              "#9c179e"
             ],
             [
              0.4444444444444444,
              "#bd3786"
             ],
             [
              0.5555555555555556,
              "#d8576b"
             ],
             [
              0.6666666666666666,
              "#ed7953"
             ],
             [
              0.7777777777777778,
              "#fb9f3a"
             ],
             [
              0.8888888888888888,
              "#fdca26"
             ],
             [
              1,
              "#f0f921"
             ]
            ],
            "type": "histogram2d"
           }
          ],
          "histogram2dcontour": [
           {
            "colorbar": {
             "outlinewidth": 0,
             "ticks": ""
            },
            "colorscale": [
             [
              0,
              "#0d0887"
             ],
             [
              0.1111111111111111,
              "#46039f"
             ],
             [
              0.2222222222222222,
              "#7201a8"
             ],
             [
              0.3333333333333333,
              "#9c179e"
             ],
             [
              0.4444444444444444,
              "#bd3786"
             ],
             [
              0.5555555555555556,
              "#d8576b"
             ],
             [
              0.6666666666666666,
              "#ed7953"
             ],
             [
              0.7777777777777778,
              "#fb9f3a"
             ],
             [
              0.8888888888888888,
              "#fdca26"
             ],
             [
              1,
              "#f0f921"
             ]
            ],
            "type": "histogram2dcontour"
           }
          ],
          "mesh3d": [
           {
            "colorbar": {
             "outlinewidth": 0,
             "ticks": ""
            },
            "type": "mesh3d"
           }
          ],
          "parcoords": [
           {
            "line": {
             "colorbar": {
              "outlinewidth": 0,
              "ticks": ""
             }
            },
            "type": "parcoords"
           }
          ],
          "pie": [
           {
            "automargin": true,
            "type": "pie"
           }
          ],
          "scatter": [
           {
            "marker": {
             "colorbar": {
              "outlinewidth": 0,
              "ticks": ""
             }
            },
            "type": "scatter"
           }
          ],
          "scatter3d": [
           {
            "line": {
             "colorbar": {
              "outlinewidth": 0,
              "ticks": ""
             }
            },
            "marker": {
             "colorbar": {
              "outlinewidth": 0,
              "ticks": ""
             }
            },
            "type": "scatter3d"
           }
          ],
          "scattercarpet": [
           {
            "marker": {
             "colorbar": {
              "outlinewidth": 0,
              "ticks": ""
             }
            },
            "type": "scattercarpet"
           }
          ],
          "scattergeo": [
           {
            "marker": {
             "colorbar": {
              "outlinewidth": 0,
              "ticks": ""
             }
            },
            "type": "scattergeo"
           }
          ],
          "scattergl": [
           {
            "marker": {
             "colorbar": {
              "outlinewidth": 0,
              "ticks": ""
             }
            },
            "type": "scattergl"
           }
          ],
          "scattermapbox": [
           {
            "marker": {
             "colorbar": {
              "outlinewidth": 0,
              "ticks": ""
             }
            },
            "type": "scattermapbox"
           }
          ],
          "scatterpolar": [
           {
            "marker": {
             "colorbar": {
              "outlinewidth": 0,
              "ticks": ""
             }
            },
            "type": "scatterpolar"
           }
          ],
          "scatterpolargl": [
           {
            "marker": {
             "colorbar": {
              "outlinewidth": 0,
              "ticks": ""
             }
            },
            "type": "scatterpolargl"
           }
          ],
          "scatterternary": [
           {
            "marker": {
             "colorbar": {
              "outlinewidth": 0,
              "ticks": ""
             }
            },
            "type": "scatterternary"
           }
          ],
          "surface": [
           {
            "colorbar": {
             "outlinewidth": 0,
             "ticks": ""
            },
            "colorscale": [
             [
              0,
              "#0d0887"
             ],
             [
              0.1111111111111111,
              "#46039f"
             ],
             [
              0.2222222222222222,
              "#7201a8"
             ],
             [
              0.3333333333333333,
              "#9c179e"
             ],
             [
              0.4444444444444444,
              "#bd3786"
             ],
             [
              0.5555555555555556,
              "#d8576b"
             ],
             [
              0.6666666666666666,
              "#ed7953"
             ],
             [
              0.7777777777777778,
              "#fb9f3a"
             ],
             [
              0.8888888888888888,
              "#fdca26"
             ],
             [
              1,
              "#f0f921"
             ]
            ],
            "type": "surface"
           }
          ],
          "table": [
           {
            "cells": {
             "fill": {
              "color": "#EBF0F8"
             },
             "line": {
              "color": "white"
             }
            },
            "header": {
             "fill": {
              "color": "#C8D4E3"
             },
             "line": {
              "color": "white"
             }
            },
            "type": "table"
           }
          ]
         },
         "layout": {
          "annotationdefaults": {
           "arrowcolor": "#2a3f5f",
           "arrowhead": 0,
           "arrowwidth": 1
          },
          "autotypenumbers": "strict",
          "coloraxis": {
           "colorbar": {
            "outlinewidth": 0,
            "ticks": ""
           }
          },
          "colorscale": {
           "diverging": [
            [
             0,
             "#8e0152"
            ],
            [
             0.1,
             "#c51b7d"
            ],
            [
             0.2,
             "#de77ae"
            ],
            [
             0.3,
             "#f1b6da"
            ],
            [
             0.4,
             "#fde0ef"
            ],
            [
             0.5,
             "#f7f7f7"
            ],
            [
             0.6,
             "#e6f5d0"
            ],
            [
             0.7,
             "#b8e186"
            ],
            [
             0.8,
             "#7fbc41"
            ],
            [
             0.9,
             "#4d9221"
            ],
            [
             1,
             "#276419"
            ]
           ],
           "sequential": [
            [
             0,
             "#0d0887"
            ],
            [
             0.1111111111111111,
             "#46039f"
            ],
            [
             0.2222222222222222,
             "#7201a8"
            ],
            [
             0.3333333333333333,
             "#9c179e"
            ],
            [
             0.4444444444444444,
             "#bd3786"
            ],
            [
             0.5555555555555556,
             "#d8576b"
            ],
            [
             0.6666666666666666,
             "#ed7953"
            ],
            [
             0.7777777777777778,
             "#fb9f3a"
            ],
            [
             0.8888888888888888,
             "#fdca26"
            ],
            [
             1,
             "#f0f921"
            ]
           ],
           "sequentialminus": [
            [
             0,
             "#0d0887"
            ],
            [
             0.1111111111111111,
             "#46039f"
            ],
            [
             0.2222222222222222,
             "#7201a8"
            ],
            [
             0.3333333333333333,
             "#9c179e"
            ],
            [
             0.4444444444444444,
             "#bd3786"
            ],
            [
             0.5555555555555556,
             "#d8576b"
            ],
            [
             0.6666666666666666,
             "#ed7953"
            ],
            [
             0.7777777777777778,
             "#fb9f3a"
            ],
            [
             0.8888888888888888,
             "#fdca26"
            ],
            [
             1,
             "#f0f921"
            ]
           ]
          },
          "colorway": [
           "#636efa",
           "#EF553B",
           "#00cc96",
           "#ab63fa",
           "#FFA15A",
           "#19d3f3",
           "#FF6692",
           "#B6E880",
           "#FF97FF",
           "#FECB52"
          ],
          "font": {
           "color": "#2a3f5f"
          },
          "geo": {
           "bgcolor": "white",
           "lakecolor": "white",
           "landcolor": "#E5ECF6",
           "showlakes": true,
           "showland": true,
           "subunitcolor": "white"
          },
          "hoverlabel": {
           "align": "left"
          },
          "hovermode": "closest",
          "mapbox": {
           "style": "light"
          },
          "paper_bgcolor": "white",
          "plot_bgcolor": "#E5ECF6",
          "polar": {
           "angularaxis": {
            "gridcolor": "white",
            "linecolor": "white",
            "ticks": ""
           },
           "bgcolor": "#E5ECF6",
           "radialaxis": {
            "gridcolor": "white",
            "linecolor": "white",
            "ticks": ""
           }
          },
          "scene": {
           "xaxis": {
            "backgroundcolor": "#E5ECF6",
            "gridcolor": "white",
            "gridwidth": 2,
            "linecolor": "white",
            "showbackground": true,
            "ticks": "",
            "zerolinecolor": "white"
           },
           "yaxis": {
            "backgroundcolor": "#E5ECF6",
            "gridcolor": "white",
            "gridwidth": 2,
            "linecolor": "white",
            "showbackground": true,
            "ticks": "",
            "zerolinecolor": "white"
           },
           "zaxis": {
            "backgroundcolor": "#E5ECF6",
            "gridcolor": "white",
            "gridwidth": 2,
            "linecolor": "white",
            "showbackground": true,
            "ticks": "",
            "zerolinecolor": "white"
           }
          },
          "shapedefaults": {
           "line": {
            "color": "#2a3f5f"
           }
          },
          "ternary": {
           "aaxis": {
            "gridcolor": "white",
            "linecolor": "white",
            "ticks": ""
           },
           "baxis": {
            "gridcolor": "white",
            "linecolor": "white",
            "ticks": ""
           },
           "bgcolor": "#E5ECF6",
           "caxis": {
            "gridcolor": "white",
            "linecolor": "white",
            "ticks": ""
           }
          },
          "title": {
           "x": 0.05
          },
          "xaxis": {
           "automargin": true,
           "gridcolor": "white",
           "linecolor": "white",
           "ticks": "",
           "title": {
            "standoff": 15
           },
           "zerolinecolor": "white",
           "zerolinewidth": 2
          },
          "yaxis": {
           "automargin": true,
           "gridcolor": "white",
           "linecolor": "white",
           "ticks": "",
           "title": {
            "standoff": 15
           },
           "zerolinecolor": "white",
           "zerolinewidth": 2
          }
         }
        },
        "title": {
         "text": "Cell 107 - Stimulus FFF_3"
        },
        "xaxis": {
         "anchor": "y",
         "domain": [
          0,
          0.36000000000000004
         ],
         "matches": "x11",
         "showgrid": false,
         "showticklabels": false,
         "type": "linear"
        },
        "xaxis10": {
         "anchor": "y10",
         "domain": [
          0.4600000000000001,
          1
         ],
         "matches": "x12",
         "showgrid": false,
         "showticklabels": false
        },
        "xaxis11": {
         "anchor": "y11",
         "domain": [
          0,
          0.36000000000000004
         ],
         "range": [
          -0.2,
          4
         ],
         "showgrid": false,
         "title": {
          "text": "Time in Seconds"
         },
         "type": "linear"
        },
        "xaxis12": {
         "anchor": "y12",
         "domain": [
          0.4600000000000001,
          1
         ],
         "showgrid": false
        },
        "xaxis2": {
         "anchor": "y2",
         "domain": [
          0.4600000000000001,
          1
         ],
         "matches": "x12",
         "showgrid": false,
         "showticklabels": false
        },
        "xaxis3": {
         "anchor": "y3",
         "domain": [
          0,
          0.36000000000000004
         ],
         "matches": "x11",
         "showgrid": false,
         "showticklabels": false,
         "type": "linear"
        },
        "xaxis4": {
         "anchor": "y4",
         "domain": [
          0.4600000000000001,
          1
         ],
         "matches": "x12",
         "showgrid": false,
         "showticklabels": false
        },
        "xaxis5": {
         "anchor": "y5",
         "domain": [
          0,
          0.36000000000000004
         ],
         "matches": "x11",
         "showgrid": false,
         "showticklabels": false,
         "type": "linear"
        },
        "xaxis6": {
         "anchor": "y6",
         "domain": [
          0.4600000000000001,
          1
         ],
         "matches": "x12",
         "showgrid": false,
         "showticklabels": false
        },
        "xaxis7": {
         "anchor": "y7",
         "domain": [
          0,
          0.36000000000000004
         ],
         "matches": "x11",
         "showgrid": false,
         "showticklabels": false,
         "type": "linear"
        },
        "xaxis8": {
         "anchor": "y8",
         "domain": [
          0.4600000000000001,
          1
         ],
         "matches": "x12",
         "showgrid": false,
         "showticklabels": false
        },
        "xaxis9": {
         "anchor": "y9",
         "domain": [
          0,
          0.36000000000000004
         ],
         "matches": "x11",
         "showgrid": false,
         "showticklabels": false,
         "type": "linear"
        },
        "yaxis": {
         "anchor": "x",
         "domain": [
          0.8375,
          1
         ],
         "range": [
          -0.1,
          5.1
         ],
         "showgrid": false,
         "type": "linear",
         "visible": false
        },
        "yaxis10": {
         "anchor": "x10",
         "domain": [
          0.1675,
          0.33
         ],
         "range": [
          -0.1,
          5.1
         ],
         "showgrid": false,
         "visible": false
        },
        "yaxis11": {
         "anchor": "x11",
         "domain": [
          0,
          0.1625
         ],
         "range": [
          -0.1,
          5.1
         ],
         "showgrid": false,
         "type": "linear",
         "visible": false
        },
        "yaxis12": {
         "anchor": "x12",
         "domain": [
          0,
          0.1625
         ],
         "range": [
          -0.1,
          5.1
         ],
         "showgrid": false,
         "visible": false
        },
        "yaxis2": {
         "anchor": "x2",
         "domain": [
          0.8375,
          1
         ],
         "range": [
          -0.1,
          5.1
         ],
         "showgrid": false,
         "visible": false
        },
        "yaxis3": {
         "anchor": "x3",
         "domain": [
          0.67,
          0.8325
         ],
         "range": [
          -0.1,
          5.1
         ],
         "showgrid": false,
         "type": "linear",
         "visible": false
        },
        "yaxis4": {
         "anchor": "x4",
         "domain": [
          0.67,
          0.8325
         ],
         "range": [
          -0.1,
          5.1
         ],
         "showgrid": false,
         "visible": false
        },
        "yaxis5": {
         "anchor": "x5",
         "domain": [
          0.5025000000000001,
          0.665
         ],
         "range": [
          -0.1,
          5.1
         ],
         "showgrid": false,
         "type": "linear",
         "visible": false
        },
        "yaxis6": {
         "anchor": "x6",
         "domain": [
          0.5025000000000001,
          0.665
         ],
         "range": [
          -0.1,
          5.1
         ],
         "showgrid": false,
         "visible": false
        },
        "yaxis7": {
         "anchor": "x7",
         "domain": [
          0.335,
          0.49750000000000005
         ],
         "range": [
          -0.1,
          5.1
         ],
         "showgrid": false,
         "type": "linear",
         "visible": false
        },
        "yaxis8": {
         "anchor": "x8",
         "domain": [
          0.335,
          0.49750000000000005
         ],
         "range": [
          -0.1,
          5.1
         ],
         "showgrid": false,
         "visible": false
        },
        "yaxis9": {
         "anchor": "x9",
         "domain": [
          0.1675,
          0.33
         ],
         "range": [
          -0.1,
          5.1
         ],
         "showgrid": false,
         "type": "linear",
         "visible": false
        }
       }
      },
      "image/png": "[encoded data removed]",
      "text/html": [
       "<div>                            <div id=\"babc03ed-7130-49ac-aa24-6db2cacb2d7f\" class=\"plotly-graph-div\" style=\"height:525px; width:100%;\"></div>            <script type=\"text/javascript\">                require([\"plotly\"], function(Plotly) {                    window.PLOTLYENV=window.PLOTLYENV || {};                                    if (document.getElementById(\"babc03ed-7130-49ac-aa24-6db2cacb2d7f\")) {                    Plotly.newPlot(                        \"babc03ed-7130-49ac-aa24-6db2cacb2d7f\",                        [{\"line\": {\"width\": 4}, \"marker\": {\"color\": \"Black\", \"size\": 3, \"symbol\": \"line-ns-open\"}, \"mode\": \"markers\", \"name\": \"Repeat 0\", \"type\": \"scatter\", \"x\": [2.272364730812656, 2.2917454791083864, 2.4169921646264574, 3.625992370450269], \"xaxis\": \"x\", \"y\": [0.0, 0.0, 0.0, 0.0], \"yaxis\": \"y\"}, {\"line\": {\"width\": 4}, \"marker\": {\"color\": \"Black\", \"size\": 3, \"symbol\": \"line-ns-open\"}, \"mode\": \"markers\", \"name\": \"Repeat 1\", \"type\": \"scatter\", \"x\": [2.278806309003434, 2.3151592154887775, 2.370220705589074, 2.4336842541990804, 2.487289387491028, 2.64894499321784, 3.44658041440627], \"xaxis\": \"x\", \"y\": [1.0, 1.0, 1.0, 1.0, 1.0, 1.0, 1.0], \"yaxis\": \"y\"}, {\"line\": {\"width\": 4}, \"marker\": {\"color\": \"Black\", \"size\": 3, \"symbol\": \"line-ns-open\"}, \"mode\": \"markers\", \"name\": \"Repeat 2\", \"type\": \"scatter\", \"x\": [3.5390030580130754], \"xaxis\": \"x\", \"y\": [2.0], \"yaxis\": \"y\"}, {\"line\": {\"width\": 4}, \"marker\": {\"color\": \"Black\", \"size\": 3, \"symbol\": \"line-ns-open\"}, \"mode\": \"markers\", \"name\": \"Repeat 3\", \"type\": \"scatter\", \"x\": [2.330955085487031, 2.608559098647836], \"xaxis\": \"x\", \"y\": [3.0, 3.0], \"yaxis\": \"y\"}, {\"line\": {\"width\": 4}, \"marker\": {\"color\": \"Black\", \"size\": 3, \"symbol\": \"line-ns-open\"}, \"mode\": \"markers\", \"name\": \"Repeat 4\", \"type\": \"scatter\", \"x\": [2.355377068888587, 2.388761248033833], \"xaxis\": \"x\", \"y\": [4.0, 4.0], \"yaxis\": \"y\"}, {\"line\": {\"width\": 4}, \"marker\": {\"color\": \"Black\", \"size\": 3, \"symbol\": \"line-ns-open\"}, \"mode\": \"markers\", \"name\": \"Repeat 0\", \"type\": \"scatter\", \"x\": [2.632308917368615, 2.6943161091702716, 2.995389872434865, 3.4618721608939413, 3.614173474813277, 3.9963551095582672], \"xaxis\": \"x3\", \"y\": [0.0, 0.0, 0.0, 0.0, 0.0, 0.0], \"yaxis\": \"y3\"}, {\"line\": {\"width\": 4}, \"marker\": {\"color\": \"Black\", \"size\": 3, \"symbol\": \"line-ns-open\"}, \"mode\": \"markers\", \"name\": \"Repeat 1\", \"type\": \"scatter\", \"x\": [2.2924176437891632, 2.450712426112092, 2.557754651525792, 2.7423198701224125], \"xaxis\": \"x3\", \"y\": [1.0, 1.0, 1.0, 1.0], \"yaxis\": \"y3\"}, {\"line\": {\"width\": 4}, \"marker\": {\"color\": \"Black\", \"size\": 3, \"symbol\": \"line-ns-open\"}, \"mode\": \"markers\", \"name\": \"Repeat 2\", \"type\": \"scatter\", \"x\": [2.268667825068384, 2.3073733079364462, 2.372853350588783, 2.7801851471395036, 3.0603097778532216, 3.6686748276795935], \"xaxis\": \"x3\", \"y\": [2.0, 2.0, 2.0, 2.0, 2.0, 2.0], \"yaxis\": \"y3\"}, {\"line\": {\"width\": 4}, \"marker\": {\"color\": \"Black\", \"size\": 3, \"symbol\": \"line-ns-open\"}, \"mode\": \"markers\", \"name\": \"Repeat 3\", \"type\": \"scatter\", \"x\": [2.369884623248686], \"xaxis\": \"x3\", \"y\": [3.0], \"yaxis\": \"y3\"}, {\"line\": {\"width\": 4}, \"marker\": {\"color\": \"Black\", \"size\": 3, \"symbol\": \"line-ns-open\"}, \"mode\": \"markers\", \"name\": \"Repeat 4\", \"type\": \"scatter\", \"x\": [2.2462623357091585, 2.3268100699555747, 2.5643082571633653, 3.2822921636797484], \"xaxis\": \"x3\", \"y\": [4.0, 4.0, 4.0, 4.0], \"yaxis\": \"y3\"}, {\"line\": {\"width\": 4}, \"marker\": {\"color\": \"Black\", \"size\": 3, \"symbol\": \"line-ns-open\"}, \"mode\": \"markers\", \"name\": \"Repeat 0\", \"type\": \"scatter\", \"x\": [0.03517661829398413, 2.409934435478301, 3.1315032202921604], \"xaxis\": \"x5\", \"y\": [0.0, 0.0, 0.0], \"yaxis\": \"y5\"}, {\"line\": {\"width\": 4}, \"marker\": {\"color\": \"Black\", \"size\": 3, \"symbol\": \"line-ns-open\"}, \"mode\": \"markers\", \"name\": \"Repeat 1\", \"type\": \"scatter\", \"x\": [2.272812840599841, 2.3457427084641203, 2.5018529555745244, 2.5775835096087065, 2.697957001191146, 3.0033998348807884], \"xaxis\": \"x5\", \"y\": [1.0, 1.0, 1.0, 1.0, 1.0, 1.0], \"yaxis\": \"y5\"}, {\"line\": {\"width\": 4}, \"marker\": {\"color\": \"Black\", \"size\": 3, \"symbol\": \"line-ns-open\"}, \"mode\": \"markers\", \"name\": \"Repeat 2\", \"type\": \"scatter\", \"x\": [2.2970107691078048, 2.3924581537781053, 2.8859950706384465], \"xaxis\": \"x5\", \"y\": [2.0, 2.0, 2.0], \"yaxis\": \"y5\"}, {\"line\": {\"width\": 4}, \"marker\": {\"color\": \"Black\", \"size\": 3, \"symbol\": \"line-ns-open\"}, \"mode\": \"markers\", \"name\": \"Repeat 3\", \"type\": \"scatter\", \"x\": [2.2680516741110055, 2.523698307699769, 3.486238130572099], \"xaxis\": \"x5\", \"y\": [3.0, 3.0, 3.0], \"yaxis\": \"y5\"}, {\"line\": {\"width\": 4}, \"marker\": {\"color\": \"Black\", \"size\": 3, \"symbol\": \"line-ns-open\"}, \"mode\": \"markers\", \"name\": \"Repeat 4\", \"type\": \"scatter\", \"x\": [2.5650924492909386, 2.629620258645508, 2.767133949587755, 3.1576616291190565, 3.598825714602208], \"xaxis\": \"x5\", \"y\": [4.0, 4.0, 4.0, 4.0, 4.0], \"yaxis\": \"y5\"}, {\"line\": {\"width\": 4}, \"marker\": {\"color\": \"Black\", \"size\": 3, \"symbol\": \"line-ns-open\"}, \"mode\": \"markers\", \"name\": \"Repeat 0\", \"type\": \"scatter\", \"x\": [2.2617221233670244, 2.461355033557724, 2.557866678972588, 3.229919332302559, 3.414876646962966], \"xaxis\": \"x7\", \"y\": [0.0, 0.0, 0.0, 0.0, 0.0], \"yaxis\": \"y7\"}, {\"line\": {\"width\": 4}, \"marker\": {\"color\": \"Black\", \"size\": 3, \"symbol\": \"line-ns-open\"}, \"mode\": \"markers\", \"name\": \"Repeat 1\", \"type\": \"scatter\", \"x\": [2.2602657665586747, 2.3187440937862536, 2.3916179479271347, 2.8196748221351386, 2.8562517835140744, 3.0096173581779735, 3.1734014853939123, 3.4125240705802473, 3.7835029606456243], \"xaxis\": \"x7\", \"y\": [1.0, 1.0, 1.0, 1.0, 1.0, 1.0, 1.0, 1.0, 1.0], \"yaxis\": \"y7\"}, {\"line\": {\"width\": 4}, \"marker\": {\"color\": \"Black\", \"size\": 3, \"symbol\": \"line-ns-open\"}, \"mode\": \"markers\", \"name\": \"Repeat 2\", \"type\": \"scatter\", \"x\": [2.322216944636933, 2.468636817599472], \"xaxis\": \"x7\", \"y\": [2.0, 2.0], \"yaxis\": \"y7\"}, {\"line\": {\"width\": 4}, \"marker\": {\"color\": \"Black\", \"size\": 3, \"symbol\": \"line-ns-open\"}, \"mode\": \"markers\", \"name\": \"Repeat 3\", \"type\": \"scatter\", \"x\": [2.78405009405397, 3.2560777411294546], \"xaxis\": \"x7\", \"y\": [3.0, 3.0], \"yaxis\": \"y7\"}, {\"line\": {\"width\": 4}, \"marker\": {\"color\": \"Black\", \"size\": 3, \"symbol\": \"line-ns-open\"}, \"mode\": \"markers\", \"name\": \"Repeat 4\", \"type\": \"scatter\", \"x\": [2.348263326017033], \"xaxis\": \"x7\", \"y\": [4.0], \"yaxis\": \"y7\"}, {\"line\": {\"width\": 4}, \"marker\": {\"color\": \"Black\", \"size\": 3, \"symbol\": \"line-ns-open\"}, \"mode\": \"markers\", \"name\": \"Repeat 0\", \"type\": \"scatter\", \"x\": [2.26995614070654, 2.65415426949386, 3.3679931604787865], \"xaxis\": \"x9\", \"y\": [0.0, 0.0, 0.0], \"yaxis\": \"y9\"}, {\"line\": {\"width\": 4}, \"marker\": {\"color\": \"Black\", \"size\": 3, \"symbol\": \"line-ns-open\"}, \"mode\": \"markers\", \"name\": \"Repeat 1\", \"type\": \"scatter\", \"x\": [2.2926416986827554, 2.3354361833588766], \"xaxis\": \"x9\", \"y\": [1.0, 1.0], \"yaxis\": \"y9\"}, {\"line\": {\"width\": 4}, \"marker\": {\"color\": \"Black\", \"size\": 3, \"symbol\": \"line-ns-open\"}, \"mode\": \"markers\", \"name\": \"Repeat 2\", \"type\": \"scatter\", \"x\": [2.319472272190428, 2.366411772398006, 2.511431302275593], \"xaxis\": \"x9\", \"y\": [2.0, 2.0, 2.0], \"yaxis\": \"y9\"}, {\"line\": {\"width\": 4}, \"marker\": {\"color\": \"Black\", \"size\": 3, \"symbol\": \"line-ns-open\"}, \"mode\": \"markers\", \"name\": \"Repeat 3\", \"type\": \"scatter\", \"x\": [2.4434306420703438], \"xaxis\": \"x9\", \"y\": [3.0], \"yaxis\": \"y9\"}, {\"line\": {\"width\": 4}, \"marker\": {\"color\": \"Black\", \"size\": 3, \"symbol\": \"line-ns-open\"}, \"mode\": \"markers\", \"name\": \"Repeat 4\", \"type\": \"scatter\", \"x\": [2.299979496447902, 2.343894255591984, 2.3715650349506276, 2.3900495636719885], \"xaxis\": \"x9\", \"y\": [4.0, 4.0, 4.0, 4.0], \"yaxis\": \"y9\"}, {\"line\": {\"width\": 4}, \"marker\": {\"color\": \"Black\", \"size\": 3, \"symbol\": \"line-ns-open\"}, \"mode\": \"markers\", \"name\": \"Repeat 0\", \"type\": \"scatter\", \"x\": [2.0111727386074842, 2.077941096897977, 2.1498627177410907, 2.3179038879352825], \"xaxis\": \"x11\", \"y\": [0.0, 0.0, 0.0, 0.0], \"yaxis\": \"y11\"}, {\"line\": {\"width\": 4}, \"marker\": {\"color\": \"Black\", \"size\": 3, \"symbol\": \"line-ns-open\"}, \"mode\": \"markers\", \"name\": \"Repeat 1\", \"type\": \"scatter\", \"x\": [], \"xaxis\": \"x11\", \"y\": [], \"yaxis\": \"y11\"}, {\"line\": {\"width\": 4}, \"marker\": {\"color\": \"Black\", \"size\": 3, \"symbol\": \"line-ns-open\"}, \"mode\": \"markers\", \"name\": \"Repeat 2\", \"type\": \"scatter\", \"x\": [], \"xaxis\": \"x11\", \"y\": [], \"yaxis\": \"y11\"}, {\"line\": {\"width\": 4}, \"marker\": {\"color\": \"Black\", \"size\": 3, \"symbol\": \"line-ns-open\"}, \"mode\": \"markers\", \"name\": \"Repeat 3\", \"type\": \"scatter\", \"x\": [], \"xaxis\": \"x11\", \"y\": [], \"yaxis\": \"y11\"}, {\"line\": {\"width\": 4}, \"marker\": {\"color\": \"Black\", \"size\": 3, \"symbol\": \"line-ns-open\"}, \"mode\": \"markers\", \"name\": \"Repeat 4\", \"type\": \"scatter\", \"x\": [], \"xaxis\": \"x11\", \"y\": [], \"yaxis\": \"y11\"}],                        {\"shapes\": [{\"fillcolor\": \"#FE7C7C\", \"layer\": \"below\", \"line\": {\"color\": \"#FE7C7C\", \"width\": 1}, \"opacity\": 0.2, \"type\": \"rect\", \"x0\": 0, \"x1\": 2.0, \"xref\": \"x\", \"y0\": 0, \"y1\": 5, \"yref\": \"y\"}, {\"fillcolor\": \"#FAFE7C\", \"layer\": \"below\", \"line\": {\"color\": \"#FAFE7C\", \"width\": 1}, \"opacity\": 0.2, \"type\": \"rect\", \"x0\": 0, \"x1\": 2.0, \"xref\": \"x3\", \"y0\": 0, \"y1\": 5, \"yref\": \"y3\"}, {\"fillcolor\": \"#8AFE7C\", \"layer\": \"below\", \"line\": {\"color\": \"#8AFE7C\", \"width\": 1}, \"opacity\": 0.2, \"type\": \"rect\", \"x0\": 0, \"x1\": 2.0, \"xref\": \"x5\", \"y0\": 0, \"y1\": 5, \"yref\": \"y5\"}, {\"fillcolor\": \"#7CFCFE\", \"layer\": \"below\", \"line\": {\"color\": \"#7CFCFE\", \"width\": 1}, \"opacity\": 0.2, \"type\": \"rect\", \"x0\": 0, \"x1\": 2.0, \"xref\": \"x7\", \"y0\": 0, \"y1\": 5, \"yref\": \"y7\"}, {\"fillcolor\": \"#7C86FE\", \"layer\": \"below\", \"line\": {\"color\": \"#7C86FE\", \"width\": 1}, \"opacity\": 0.2, \"type\": \"rect\", \"x0\": 0, \"x1\": 2.0, \"xref\": \"x9\", \"y0\": 0, \"y1\": 5, \"yref\": \"y9\"}, {\"fillcolor\": \"#FE7CFE\", \"layer\": \"below\", \"line\": {\"color\": \"#FE7CFE\", \"width\": 1}, \"opacity\": 0.2, \"type\": \"rect\", \"x0\": 0, \"x1\": 2.0, \"xref\": \"x11\", \"y0\": 0, \"y1\": 5, \"yref\": \"y11\"}], \"template\": {\"data\": {\"bar\": [{\"error_x\": {\"color\": \"#2a3f5f\"}, \"error_y\": {\"color\": \"#2a3f5f\"}, \"marker\": {\"line\": {\"color\": \"#E5ECF6\", \"width\": 0.5}}, \"type\": \"bar\"}], \"barpolar\": [{\"marker\": {\"line\": {\"color\": \"#E5ECF6\", \"width\": 0.5}}, \"type\": \"barpolar\"}], \"carpet\": [{\"aaxis\": {\"endlinecolor\": \"#2a3f5f\", \"gridcolor\": \"white\", \"linecolor\": \"white\", \"minorgridcolor\": \"white\", \"startlinecolor\": \"#2a3f5f\"}, \"baxis\": {\"endlinecolor\": \"#2a3f5f\", \"gridcolor\": \"white\", \"linecolor\": \"white\", \"minorgridcolor\": \"white\", \"startlinecolor\": \"#2a3f5f\"}, \"type\": \"carpet\"}], \"choropleth\": [{\"colorbar\": {\"outlinewidth\": 0, \"ticks\": \"\"}, \"type\": \"choropleth\"}], \"contour\": [{\"colorbar\": {\"outlinewidth\": 0, \"ticks\": \"\"}, \"colorscale\": [[0.0, \"#0d0887\"], [0.1111111111111111, \"#46039f\"], [0.2222222222222222, \"#7201a8\"], [0.3333333333333333, \"#9c179e\"], [0.4444444444444444, \"#bd3786\"], [0.5555555555555556, \"#d8576b\"], [0.6666666666666666, \"#ed7953\"], [0.7777777777777778, \"#fb9f3a\"], [0.8888888888888888, \"#fdca26\"], [1.0, \"#f0f921\"]], \"type\": \"contour\"}], \"contourcarpet\": [{\"colorbar\": {\"outlinewidth\": 0, \"ticks\": \"\"}, \"type\": \"contourcarpet\"}], \"heatmap\": [{\"colorbar\": {\"outlinewidth\": 0, \"ticks\": \"\"}, \"colorscale\": [[0.0, \"#0d0887\"], [0.1111111111111111, \"#46039f\"], [0.2222222222222222, \"#7201a8\"], [0.3333333333333333, \"#9c179e\"], [0.4444444444444444, \"#bd3786\"], [0.5555555555555556, \"#d8576b\"], [0.6666666666666666, \"#ed7953\"], [0.7777777777777778, \"#fb9f3a\"], [0.8888888888888888, \"#fdca26\"], [1.0, \"#f0f921\"]], \"type\": \"heatmap\"}], \"heatmapgl\": [{\"colorbar\": {\"outlinewidth\": 0, \"ticks\": \"\"}, \"colorscale\": [[0.0, \"#0d0887\"], [0.1111111111111111, \"#46039f\"], [0.2222222222222222, \"#7201a8\"], [0.3333333333333333, \"#9c179e\"], [0.4444444444444444, \"#bd3786\"], [0.5555555555555556, \"#d8576b\"], [0.6666666666666666, \"#ed7953\"], [0.7777777777777778, \"#fb9f3a\"], [0.8888888888888888, \"#fdca26\"], [1.0, \"#f0f921\"]], \"type\": \"heatmapgl\"}], \"histogram\": [{\"marker\": {\"colorbar\": {\"outlinewidth\": 0, \"ticks\": \"\"}}, \"type\": \"histogram\"}], \"histogram2d\": [{\"colorbar\": {\"outlinewidth\": 0, \"ticks\": \"\"}, \"colorscale\": [[0.0, \"#0d0887\"], [0.1111111111111111, \"#46039f\"], [0.2222222222222222, \"#7201a8\"], [0.3333333333333333, \"#9c179e\"], [0.4444444444444444, \"#bd3786\"], [0.5555555555555556, \"#d8576b\"], [0.6666666666666666, \"#ed7953\"], [0.7777777777777778, \"#fb9f3a\"], [0.8888888888888888, \"#fdca26\"], [1.0, \"#f0f921\"]], \"type\": \"histogram2d\"}], \"histogram2dcontour\": [{\"colorbar\": {\"outlinewidth\": 0, \"ticks\": \"\"}, \"colorscale\": [[0.0, \"#0d0887\"], [0.1111111111111111, \"#46039f\"], [0.2222222222222222, \"#7201a8\"], [0.3333333333333333, \"#9c179e\"], [0.4444444444444444, \"#bd3786\"], [0.5555555555555556, \"#d8576b\"], [0.6666666666666666, \"#ed7953\"], [0.7777777777777778, \"#fb9f3a\"], [0.8888888888888888, \"#fdca26\"], [1.0, \"#f0f921\"]], \"type\": \"histogram2dcontour\"}], \"mesh3d\": [{\"colorbar\": {\"outlinewidth\": 0, \"ticks\": \"\"}, \"type\": \"mesh3d\"}], \"parcoords\": [{\"line\": {\"colorbar\": {\"outlinewidth\": 0, \"ticks\": \"\"}}, \"type\": \"parcoords\"}], \"pie\": [{\"automargin\": true, \"type\": \"pie\"}], \"scatter\": [{\"marker\": {\"colorbar\": {\"outlinewidth\": 0, \"ticks\": \"\"}}, \"type\": \"scatter\"}], \"scatter3d\": [{\"line\": {\"colorbar\": {\"outlinewidth\": 0, \"ticks\": \"\"}}, \"marker\": {\"colorbar\": {\"outlinewidth\": 0, \"ticks\": \"\"}}, \"type\": \"scatter3d\"}], \"scattercarpet\": [{\"marker\": {\"colorbar\": {\"outlinewidth\": 0, \"ticks\": \"\"}}, \"type\": \"scattercarpet\"}], \"scattergeo\": [{\"marker\": {\"colorbar\": {\"outlinewidth\": 0, \"ticks\": \"\"}}, \"type\": \"scattergeo\"}], \"scattergl\": [{\"marker\": {\"colorbar\": {\"outlinewidth\": 0, \"ticks\": \"\"}}, \"type\": \"scattergl\"}], \"scattermapbox\": [{\"marker\": {\"colorbar\": {\"outlinewidth\": 0, \"ticks\": \"\"}}, \"type\": \"scattermapbox\"}], \"scatterpolar\": [{\"marker\": {\"colorbar\": {\"outlinewidth\": 0, \"ticks\": \"\"}}, \"type\": \"scatterpolar\"}], \"scatterpolargl\": [{\"marker\": {\"colorbar\": {\"outlinewidth\": 0, \"ticks\": \"\"}}, \"type\": \"scatterpolargl\"}], \"scatterternary\": [{\"marker\": {\"colorbar\": {\"outlinewidth\": 0, \"ticks\": \"\"}}, \"type\": \"scatterternary\"}], \"surface\": [{\"colorbar\": {\"outlinewidth\": 0, \"ticks\": \"\"}, \"colorscale\": [[0.0, \"#0d0887\"], [0.1111111111111111, \"#46039f\"], [0.2222222222222222, \"#7201a8\"], [0.3333333333333333, \"#9c179e\"], [0.4444444444444444, \"#bd3786\"], [0.5555555555555556, \"#d8576b\"], [0.6666666666666666, \"#ed7953\"], [0.7777777777777778, \"#fb9f3a\"], [0.8888888888888888, \"#fdca26\"], [1.0, \"#f0f921\"]], \"type\": \"surface\"}], \"table\": [{\"cells\": {\"fill\": {\"color\": \"#EBF0F8\"}, \"line\": {\"color\": \"white\"}}, \"header\": {\"fill\": {\"color\": \"#C8D4E3\"}, \"line\": {\"color\": \"white\"}}, \"type\": \"table\"}]}, \"layout\": {\"annotationdefaults\": {\"arrowcolor\": \"#2a3f5f\", \"arrowhead\": 0, \"arrowwidth\": 1}, \"autotypenumbers\": \"strict\", \"coloraxis\": {\"colorbar\": {\"outlinewidth\": 0, \"ticks\": \"\"}}, \"colorscale\": {\"diverging\": [[0, \"#8e0152\"], [0.1, \"#c51b7d\"], [0.2, \"#de77ae\"], [0.3, \"#f1b6da\"], [0.4, \"#fde0ef\"], [0.5, \"#f7f7f7\"], [0.6, \"#e6f5d0\"], [0.7, \"#b8e186\"], [0.8, \"#7fbc41\"], [0.9, \"#4d9221\"], [1, \"#276419\"]], \"sequential\": [[0.0, \"#0d0887\"], [0.1111111111111111, \"#46039f\"], [0.2222222222222222, \"#7201a8\"], [0.3333333333333333, \"#9c179e\"], [0.4444444444444444, \"#bd3786\"], [0.5555555555555556, \"#d8576b\"], [0.6666666666666666, \"#ed7953\"], [0.7777777777777778, \"#fb9f3a\"], [0.8888888888888888, \"#fdca26\"], [1.0, \"#f0f921\"]], \"sequentialminus\": [[0.0, \"#0d0887\"], [0.1111111111111111, \"#46039f\"], [0.2222222222222222, \"#7201a8\"], [0.3333333333333333, \"#9c179e\"], [0.4444444444444444, \"#bd3786\"], [0.5555555555555556, \"#d8576b\"], [0.6666666666666666, \"#ed7953\"], [0.7777777777777778, \"#fb9f3a\"], [0.8888888888888888, \"#fdca26\"], [1.0, \"#f0f921\"]]}, \"colorway\": [\"#636efa\", \"#EF553B\", \"#00cc96\", \"#ab63fa\", \"#FFA15A\", \"#19d3f3\", \"#FF6692\", \"#B6E880\", \"#FF97FF\", \"#FECB52\"], \"font\": {\"color\": \"#2a3f5f\"}, \"geo\": {\"bgcolor\": \"white\", \"lakecolor\": \"white\", \"landcolor\": \"#E5ECF6\", \"showlakes\": true, \"showland\": true, \"subunitcolor\": \"white\"}, \"hoverlabel\": {\"align\": \"left\"}, \"hovermode\": \"closest\", \"mapbox\": {\"style\": \"light\"}, \"paper_bgcolor\": \"white\", \"plot_bgcolor\": \"#E5ECF6\", \"polar\": {\"angularaxis\": {\"gridcolor\": \"white\", \"linecolor\": \"white\", \"ticks\": \"\"}, \"bgcolor\": \"#E5ECF6\", \"radialaxis\": {\"gridcolor\": \"white\", \"linecolor\": \"white\", \"ticks\": \"\"}}, \"scene\": {\"xaxis\": {\"backgroundcolor\": \"#E5ECF6\", \"gridcolor\": \"white\", \"gridwidth\": 2, \"linecolor\": \"white\", \"showbackground\": true, \"ticks\": \"\", \"zerolinecolor\": \"white\"}, \"yaxis\": {\"backgroundcolor\": \"#E5ECF6\", \"gridcolor\": \"white\", \"gridwidth\": 2, \"linecolor\": \"white\", \"showbackground\": true, \"ticks\": \"\", \"zerolinecolor\": \"white\"}, \"zaxis\": {\"backgroundcolor\": \"#E5ECF6\", \"gridcolor\": \"white\", \"gridwidth\": 2, \"linecolor\": \"white\", \"showbackground\": true, \"ticks\": \"\", \"zerolinecolor\": \"white\"}}, \"shapedefaults\": {\"line\": {\"color\": \"#2a3f5f\"}}, \"ternary\": {\"aaxis\": {\"gridcolor\": \"white\", \"linecolor\": \"white\", \"ticks\": \"\"}, \"baxis\": {\"gridcolor\": \"white\", \"linecolor\": \"white\", \"ticks\": \"\"}, \"bgcolor\": \"#E5ECF6\", \"caxis\": {\"gridcolor\": \"white\", \"linecolor\": \"white\", \"ticks\": \"\"}}, \"title\": {\"x\": 0.05}, \"xaxis\": {\"automargin\": true, \"gridcolor\": \"white\", \"linecolor\": \"white\", \"ticks\": \"\", \"title\": {\"standoff\": 15}, \"zerolinecolor\": \"white\", \"zerolinewidth\": 2}, \"yaxis\": {\"automargin\": true, \"gridcolor\": \"white\", \"linecolor\": \"white\", \"ticks\": \"\", \"title\": {\"standoff\": 15}, \"zerolinecolor\": \"white\", \"zerolinewidth\": 2}}}, \"title\": {\"text\": \"Cell 107 - Stimulus FFF_3\"}, \"xaxis\": {\"anchor\": \"y\", \"domain\": [0.0, 0.36000000000000004], \"matches\": \"x11\", \"showgrid\": false, \"showticklabels\": false}, \"xaxis10\": {\"anchor\": \"y10\", \"domain\": [0.4600000000000001, 1.0], \"matches\": \"x12\", \"showgrid\": false, \"showticklabels\": false}, \"xaxis11\": {\"anchor\": \"y11\", \"domain\": [0.0, 0.36000000000000004], \"range\": [-0.2, 4], \"showgrid\": false, \"title\": {\"text\": \"Time in Seconds\"}}, \"xaxis12\": {\"anchor\": \"y12\", \"domain\": [0.4600000000000001, 1.0], \"showgrid\": false}, \"xaxis2\": {\"anchor\": \"y2\", \"domain\": [0.4600000000000001, 1.0], \"matches\": \"x12\", \"showgrid\": false, \"showticklabels\": false}, \"xaxis3\": {\"anchor\": \"y3\", \"domain\": [0.0, 0.36000000000000004], \"matches\": \"x11\", \"showgrid\": false, \"showticklabels\": false}, \"xaxis4\": {\"anchor\": \"y4\", \"domain\": [0.4600000000000001, 1.0], \"matches\": \"x12\", \"showgrid\": false, \"showticklabels\": false}, \"xaxis5\": {\"anchor\": \"y5\", \"domain\": [0.0, 0.36000000000000004], \"matches\": \"x11\", \"showgrid\": false, \"showticklabels\": false}, \"xaxis6\": {\"anchor\": \"y6\", \"domain\": [0.4600000000000001, 1.0], \"matches\": \"x12\", \"showgrid\": false, \"showticklabels\": false}, \"xaxis7\": {\"anchor\": \"y7\", \"domain\": [0.0, 0.36000000000000004], \"matches\": \"x11\", \"showgrid\": false, \"showticklabels\": false}, \"xaxis8\": {\"anchor\": \"y8\", \"domain\": [0.4600000000000001, 1.0], \"matches\": \"x12\", \"showgrid\": false, \"showticklabels\": false}, \"xaxis9\": {\"anchor\": \"y9\", \"domain\": [0.0, 0.36000000000000004], \"matches\": \"x11\", \"showgrid\": false, \"showticklabels\": false}, \"yaxis\": {\"anchor\": \"x\", \"domain\": [0.8375, 1.0], \"range\": [-0.1, 5.1], \"showgrid\": false, \"visible\": false}, \"yaxis10\": {\"anchor\": \"x10\", \"domain\": [0.1675, 0.33], \"range\": [-0.1, 5.1], \"showgrid\": false, \"visible\": false}, \"yaxis11\": {\"anchor\": \"x11\", \"domain\": [0.0, 0.1625], \"range\": [-0.1, 5.1], \"showgrid\": false, \"visible\": false}, \"yaxis12\": {\"anchor\": \"x12\", \"domain\": [0.0, 0.1625], \"range\": [-0.1, 5.1], \"showgrid\": false, \"visible\": false}, \"yaxis2\": {\"anchor\": \"x2\", \"domain\": [0.8375, 1.0], \"range\": [-0.1, 5.1], \"showgrid\": false, \"visible\": false}, \"yaxis3\": {\"anchor\": \"x3\", \"domain\": [0.67, 0.8325], \"range\": [-0.1, 5.1], \"showgrid\": false, \"visible\": false}, \"yaxis4\": {\"anchor\": \"x4\", \"domain\": [0.67, 0.8325], \"range\": [-0.1, 5.1], \"showgrid\": false, \"visible\": false}, \"yaxis5\": {\"anchor\": \"x5\", \"domain\": [0.5025000000000001, 0.665], \"range\": [-0.1, 5.1], \"showgrid\": false, \"visible\": false}, \"yaxis6\": {\"anchor\": \"x6\", \"domain\": [0.5025000000000001, 0.665], \"range\": [-0.1, 5.1], \"showgrid\": false, \"visible\": false}, \"yaxis7\": {\"anchor\": \"x7\", \"domain\": [0.335, 0.49750000000000005], \"range\": [-0.1, 5.1], \"showgrid\": false, \"visible\": false}, \"yaxis8\": {\"anchor\": \"x8\", \"domain\": [0.335, 0.49750000000000005], \"range\": [-0.1, 5.1], \"showgrid\": false, \"visible\": false}, \"yaxis9\": {\"anchor\": \"x9\", \"domain\": [0.1675, 0.33], \"range\": [-0.1, 5.1], \"showgrid\": false, \"visible\": false}},                        {\"responsive\": true}                    ).then(function(){\n",
       "                            \n",
       "var gd = document.getElementById('babc03ed-7130-49ac-aa24-6db2cacb2d7f');\n",
       "var x = new MutationObserver(function (mutations, observer) {{\n",
       "        var display = window.getComputedStyle(gd).display;\n",
       "        if (!display || display === 'none') {{\n",
       "            console.log([gd, 'removed!']);\n",
       "            Plotly.purge(gd);\n",
       "            observer.disconnect();\n",
       "        }}\n",
       "}});\n",
       "\n",
       "// Listen for the removal of the full notebook cells\n",
       "var notebookContainer = gd.closest('#notebook-container');\n",
       "if (notebookContainer) {{\n",
       "    x.observe(notebookContainer, {childList: true});\n",
       "}}\n",
       "\n",
       "// Listen for the clearing of the current output cell\n",
       "var outputEl = gd.closest('.output');\n",
       "if (outputEl) {{\n",
       "    x.observe(outputEl, {childList: true});\n",
       "}}\n",
       "\n",
       "                        })                };                });            </script>        </div>"
      ]
     },
     "metadata": {},
     "output_type": "display_data"
    }
   ],
   "source": [
    "cell_of_int= 24\n",
    "cell_spikes=Basic.get_cell_spiketrains_per_stimulus(cell_of_int, stimulus_extr.spikes_stimulus.reset_index(), stimulus_traits, 4, Test_stimulus.sampling_frequency[0])\n",
    "Basic.plot_sc_aligned_new(cell_of_int, cell_spikes, stimulus_traits, 4, colors)"
   ]
  }
 ],
 "metadata": {
  "kernelspec": {
   "display_name": "Python 3",
   "language": "python",
   "name": "python3"
  },
  "language_info": {
   "codemirror_mode": {
    "name": "ipython",
    "version": 3
   },
   "file_extension": ".py",
   "mimetype": "text/x-python",
   "name": "python",
   "nbconvert_exporter": "python",
   "pygments_lexer": "ipython3",
   "version": "3.8.8"
  }
 },
 "nbformat": 4,
 "nbformat_minor": 5
}
